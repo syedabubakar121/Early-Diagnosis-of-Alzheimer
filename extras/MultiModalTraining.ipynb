{
  "cells": [
    {
      "cell_type": "code",
      "execution_count": 1,
      "metadata": {
        "id": "Cevusi_Pqipm"
      },
      "outputs": [],
      "source": [
        "base_dir = '/content/drive/MyDrive/'\n",
        "notebook_dir = base_dir + 'Colab\\ Notebooks/'\n",
        "data_dir = base_dir + 'Datasets/'"
      ]
    },
    {
      "cell_type": "markdown",
      "source": [
        "#Transcription Code (I didnt Run it here)"
      ],
      "metadata": {
        "id": "Z2s_3s5sZZ6P"
      }
    },
    {
      "cell_type": "code",
      "source": [
        "import os\n",
        "from pathlib import Path"
      ],
      "metadata": {
        "id": "3dzq7Gi4ZgCO"
      },
      "execution_count": null,
      "outputs": []
    },
    {
      "cell_type": "code",
      "source": [
        "# === Set up paths ===\n",
        "ad_audio_path = \"/content/drive/MyDrive/Datasets/ADReSSo21/diagnosis/train/audio/ad/\"\n",
        "cn_audio_path = \"/content/drive/MyDrive/Datasets/ADReSSo21/diagnosis/train/audio/cn/\"\n",
        "\n",
        "transcript_ad_path = \"/content/drive/MyDrive/Datasets/ADReSSo21/diagnosis/train/transcript_ad/\"\n",
        "transcript_cn_path = \"/content/drive/MyDrive/Datasets/ADReSSo21/diagnosis/train/transcript_cn/\"\n",
        "\n",
        "pcm_folder = \"/content/pcm_temp\"\n",
        "os.makedirs(transcript_ad_path, exist_ok=True)\n",
        "os.makedirs(transcript_cn_path, exist_ok=True)\n",
        "os.makedirs(pcm_folder, exist_ok=True)"
      ],
      "metadata": {
        "id": "YtLlIzvSZZvb"
      },
      "execution_count": null,
      "outputs": []
    },
    {
      "cell_type": "code",
      "source": [
        "def transcribe_and_save(audio_file, label, client, save_path):\n",
        "    filename = Path(audio_file).stem\n",
        "    output_pcm = f\"{pcm_folder}/{filename}.pcm\"\n",
        "\n",
        "    # Convert audio to PCM\n",
        "    try:\n",
        "        convert_to_pcm(audio_file, output_pcm)\n",
        "    except Exception as e:\n",
        "        print(f\"⚠️ Failed to convert {audio_file}: {e}\")\n",
        "        return\n",
        "\n",
        "    # Transcribe\n",
        "    try:\n",
        "        chunks = split_audio(output_pcm)\n",
        "        full_transcript = \"\"\n",
        "        for i, chunk in enumerate(chunks):\n",
        "            chunk_file = f\"{pcm_folder}/chunk_{filename}_{i}.pcm\"\n",
        "            chunk.export(chunk_file, format=\"s16le\")\n",
        "            print(f\"📢 Processing {label.upper()} chunk {i+1}/{len(chunks)} for {filename}\")\n",
        "            chunk_text = client.transcribe_chunk(chunk_file)\n",
        "            full_transcript += chunk_text + \" \"\n",
        "\n",
        "        # Save the transcript with label\n",
        "        transcript_filename = f\"{save_path}/{filename}.txt\"\n",
        "        with open(transcript_filename, \"w\") as f:\n",
        "            f.write(f\"LABEL: {label.upper()}\\n{full_transcript.strip()}\")\n",
        "        print(f\"✅ Transcript saved: {transcript_filename}\")\n",
        "\n",
        "    except Exception as e:\n",
        "        print(f\"❌ Failed to process {audio_file}: {e}\")"
      ],
      "metadata": {
        "id": "dgeK-YlYZZs6"
      },
      "execution_count": null,
      "outputs": []
    },
    {
      "cell_type": "code",
      "source": [
        "# === Initialize ASR client ===\n",
        "APPID = 'ga637f40'\n",
        "APIKey = 'e83d852f6c7ea7fead63ccaeee9271e9'\n",
        "APISecret = '2b8d35fce36129e4b290158909e144c8'\n",
        "\n",
        "client = ASRClient(APPID, APIKey, APISecret)"
      ],
      "metadata": {
        "id": "8zsAvBf8ZZqC"
      },
      "execution_count": null,
      "outputs": []
    },
    {
      "cell_type": "code",
      "source": [
        "# === Process AD files ===\n",
        "ad_files = [os.path.join(ad_audio_path, f) for f in os.listdir(ad_audio_path) if f.endswith(\".wav\")]\n",
        "for file in ad_files:\n",
        "    transcribe_and_save(file, label=\"ad\", client=client, save_path=transcript_ad_path)"
      ],
      "metadata": {
        "id": "uf9OC-KVZZnO"
      },
      "execution_count": null,
      "outputs": []
    },
    {
      "cell_type": "code",
      "source": [
        "# === Process CN files ===\n",
        "cn_files = [os.path.join(cn_audio_path, f) for f in os.listdir(cn_audio_path) if f.endswith(\".wav\")]\n",
        "for file in cn_files:\n",
        "    transcribe_and_save(file, label=\"cn\", client=client, save_path=transcript_cn_path)"
      ],
      "metadata": {
        "id": "He15DuPUZZdW"
      },
      "execution_count": null,
      "outputs": []
    },
    {
      "cell_type": "code",
      "source": [
        "##Test Data\n",
        "\n",
        "# ----- Set up API credentials -----\n",
        "APPID = 'ga637f40'\n",
        "APIKey = 'e83d852f6c7ea7fead63ccaeee9271e9'\n",
        "APISecret = '2b8d35fce36129e4b290158909e144c8'\n",
        "\n",
        "# ----- Set up Paths -----\n",
        "test_audio_path = \"/content/drive/MyDrive/Datasets/ADReSSo21/diagnosis/test-dist/audio/\"\n",
        "ground_truth_path = \"/content/drive/MyDrive/Datasets/ADReSSo21/diagnosis/test-dist/ground_truth.csv\"\n",
        "#Outpu driectory for saving test transc\n",
        "transcript_test_path = \"/content/drive/MyDrive/Datasets/ADReSSo21/diagnosis/test-dist/transcripts/\"\n",
        "pcm_folder = \"/content/pcm_temp\"\n",
        "\n",
        "# Create required directories if they don't exist\n",
        "os.makedirs(transcript_test_path, exist_ok=True)\n",
        "os.makedirs(pcm_folder, exist_ok=True)\n",
        "\n",
        "label_map = {\"Control\": \"cn\", \"ProbableAD\": \"ad\"}\n",
        "\n",
        "\n",
        "# === Transcription Function ===\n",
        "def transcribe_and_save(audio_file, label, client, save_path):\n",
        "    filename = Path(audio_file).stem\n",
        "    output_pcm = f\"{pcm_folder}/{filename}.pcm\"\n",
        "\n",
        "    try:\n",
        "        convert_to_pcm(audio_file, output_pcm)\n",
        "    except Exception as e:\n",
        "        print(f\"⚠️ Failed to convert {audio_file}: {e}\")\n",
        "        return\n",
        "\n",
        "    try:\n",
        "        chunks = split_audio(output_pcm)\n",
        "        full_transcript = \"\"\n",
        "        for i, chunk in enumerate(chunks):\n",
        "            chunk_file = f\"{pcm_folder}/chunk_{filename}_{i}.pcm\"\n",
        "            chunk.export(chunk_file, format=\"s16le\")\n",
        "            print(f\"📢 Processing {label.upper()} chunk {i+1}/{len(chunks)} for {filename}\")\n",
        "            chunk_text = client.transcribe_chunk(chunk_file)\n",
        "            full_transcript += chunk_text + \" \"\n",
        "\n",
        "        transcript_filename = f\"{save_path}/{filename}.txt\"\n",
        "        with open(transcript_filename, \"w\") as f:\n",
        "            f.write(f\"LABEL: {label.upper()}\\n{full_transcript.strip()}\")\n",
        "        print(f\"✅ Transcript saved: {transcript_filename}\")\n",
        "\n",
        "    except Exception as e:\n",
        "        print(f\"❌ Failed to process {audio_file}: {e}\")\n",
        "\n",
        "# === Read Ground Truth and Transcribe All ===\n",
        "df = pd.read_csv(ground_truth_path)\n",
        "filename_to_label = {row['filename']: label_map[row['status']] for _, row in df.iterrows()}\n",
        "\n",
        "for filename, label in filename_to_label.items():\n",
        "    audio_file = os.path.join(test_audio_path, filename + \".wav\")\n",
        "    if os.path.exists(audio_file):\n",
        "        transcribe_and_save(audio_file, label, client, transcript_test_path)\n",
        "    else:\n",
        "        print(f\"⚠️ Audio file not found: {audio_file}\")"
      ],
      "metadata": {
        "id": "hXjEp0AsaEv-"
      },
      "execution_count": null,
      "outputs": []
    },
    {
      "cell_type": "code",
      "execution_count": null,
      "metadata": {
        "colab": {
          "base_uri": "https://localhost:8080/"
        },
        "id": "8m3rBNicrcr3",
        "outputId": "ea52a394-ca83-4b33-d80c-967d2e30e999"
      },
      "outputs": [
        {
          "name": "stdout",
          "output_type": "stream",
          "text": [
            "Found existing installation: numpy 1.26.4\n",
            "Uninstalling numpy-1.26.4:\n",
            "  Successfully uninstalled numpy-1.26.4\n",
            "Found existing installation: gensim 4.3.1\n",
            "Uninstalling gensim-4.3.1:\n",
            "  Successfully uninstalled gensim-4.3.1\n"
          ]
        }
      ],
      "source": [
        "!pip uninstall -y numpy gensim"
      ]
    },
    {
      "cell_type": "code",
      "execution_count": null,
      "metadata": {
        "colab": {
          "base_uri": "https://localhost:8080/"
        },
        "id": "Lm8XNrZ_qrWg",
        "outputId": "8c2fc666-2cca-4159-cd9f-cc2949ec1ec7"
      },
      "outputs": [
        {
          "name": "stdout",
          "output_type": "stream",
          "text": [
            "Collecting numpy==1.26.4\n",
            "  Using cached numpy-1.26.4-cp311-cp311-manylinux_2_17_x86_64.manylinux2014_x86_64.whl.metadata (61 kB)\n",
            "Collecting gensim==4.3.1\n",
            "  Using cached gensim-4.3.1-cp311-cp311-manylinux_2_17_x86_64.manylinux2014_x86_64.whl.metadata (8.4 kB)\n",
            "Requirement already satisfied: scipy>=1.7.0 in /usr/local/lib/python3.11/dist-packages (from gensim==4.3.1) (1.12.0)\n",
            "Requirement already satisfied: smart-open>=1.8.1 in /usr/local/lib/python3.11/dist-packages (from gensim==4.3.1) (7.1.0)\n",
            "Requirement already satisfied: wrapt in /usr/local/lib/python3.11/dist-packages (from smart-open>=1.8.1->gensim==4.3.1) (1.17.2)\n",
            "Using cached numpy-1.26.4-cp311-cp311-manylinux_2_17_x86_64.manylinux2014_x86_64.whl (18.3 MB)\n",
            "Using cached gensim-4.3.1-cp311-cp311-manylinux_2_17_x86_64.manylinux2014_x86_64.whl (26.6 MB)\n",
            "Installing collected packages: numpy, gensim\n",
            "\u001b[31mERROR: pip's dependency resolver does not currently take into account all the packages that are installed. This behaviour is the source of the following dependency conflicts.\n",
            "thinc 8.3.6 requires numpy<3.0.0,>=2.0.0, but you have numpy 1.26.4 which is incompatible.\u001b[0m\u001b[31m\n",
            "\u001b[0mSuccessfully installed gensim-4.3.1 numpy-1.26.4\n"
          ]
        }
      ],
      "source": [
        "!pip install numpy==1.26.4 gensim==4.3.1"
      ]
    },
    {
      "cell_type": "code",
      "execution_count": null,
      "metadata": {
        "colab": {
          "base_uri": "https://localhost:8080/"
        },
        "id": "BOLmZpEnrT8F",
        "outputId": "aa17b552-37f5-4532-d8f6-225b71d7fcc3"
      },
      "outputs": [
        {
          "name": "stdout",
          "output_type": "stream",
          "text": [
            "Requirement already satisfied: scipy==1.12 in /usr/local/lib/python3.11/dist-packages (1.12.0)\n",
            "Requirement already satisfied: numpy<1.29.0,>=1.22.4 in /usr/local/lib/python3.11/dist-packages (from scipy==1.12) (1.26.4)\n"
          ]
        }
      ],
      "source": [
        "!pip install scipy==1.12"
      ]
    },
    {
      "cell_type": "code",
      "execution_count": null,
      "metadata": {
        "colab": {
          "base_uri": "https://localhost:8080/"
        },
        "id": "hlxtKmqzrZhl",
        "outputId": "e32f639a-8580-4bda-be3b-f1b00a9b611a"
      },
      "outputs": [
        {
          "name": "stdout",
          "output_type": "stream",
          "text": [
            "Collecting git+https://github.com/piskvorky/gensim.git@develop\n",
            "  Cloning https://github.com/piskvorky/gensim.git (to revision develop) to /tmp/pip-req-build-9a8ni5j_\n",
            "  Running command git clone --filter=blob:none --quiet https://github.com/piskvorky/gensim.git /tmp/pip-req-build-9a8ni5j_\n",
            "  Resolved https://github.com/piskvorky/gensim.git to commit 6591e008f065017adce9d25113a036864e3a9dc6\n",
            "  Installing build dependencies ... \u001b[?25l\u001b[?25hdone\n",
            "  Getting requirements to build wheel ... \u001b[?25l\u001b[?25hdone\n",
            "  Preparing metadata (pyproject.toml) ... \u001b[?25l\u001b[?25hdone\n",
            "Requirement already satisfied: numpy<2.0,>=1.18.5 in /usr/local/lib/python3.11/dist-packages (from gensim==4.3.3) (1.26.4)\n",
            "Requirement already satisfied: scipy<1.14.0,>=1.7.0 in /usr/local/lib/python3.11/dist-packages (from gensim==4.3.3) (1.12.0)\n",
            "Requirement already satisfied: smart_open>=1.8.1 in /usr/local/lib/python3.11/dist-packages (from gensim==4.3.3) (7.1.0)\n",
            "Requirement already satisfied: wrapt in /usr/local/lib/python3.11/dist-packages (from smart_open>=1.8.1->gensim==4.3.3) (1.17.2)\n",
            "Building wheels for collected packages: gensim\n",
            "  Building wheel for gensim (pyproject.toml) ... \u001b[?25l\u001b[?25hdone\n",
            "  Created wheel for gensim: filename=gensim-4.3.3-cp311-cp311-linux_x86_64.whl size=26130940 sha256=756d442bc3913f450b3f18297f563b2358b151e0b457d43414e6f2ec69a57882\n",
            "  Stored in directory: /tmp/pip-ephem-wheel-cache-bmo396vn/wheels/60/e7/97/a35b81b66356ad3ff3b5a928da275836e8f2fadd283e19385c\n",
            "Successfully built gensim\n",
            "Installing collected packages: gensim\n",
            "  Attempting uninstall: gensim\n",
            "    Found existing installation: gensim 4.3.1\n",
            "    Uninstalling gensim-4.3.1:\n",
            "      Successfully uninstalled gensim-4.3.1\n",
            "Successfully installed gensim-4.3.3\n"
          ]
        }
      ],
      "source": [
        "!pip install git+https://github.com/piskvorky/gensim.git@develop"
      ]
    },
    {
      "cell_type": "code",
      "execution_count": null,
      "metadata": {
        "colab": {
          "base_uri": "https://localhost:8080/"
        },
        "id": "SKEfF18Frhdy",
        "outputId": "7ee38198-74e6-46c9-b990-0837b33ae84f"
      },
      "outputs": [
        {
          "name": "stdout",
          "output_type": "stream",
          "text": [
            "Requirement already satisfied: gensim in /usr/local/lib/python3.11/dist-packages (4.3.3)\n",
            "Requirement already satisfied: nltk in /usr/local/lib/python3.11/dist-packages (3.9.1)\n",
            "Requirement already satisfied: scikit-learn in /usr/local/lib/python3.11/dist-packages (1.6.1)\n",
            "Requirement already satisfied: numpy in /usr/local/lib/python3.11/dist-packages (1.26.4)\n",
            "Requirement already satisfied: pandas in /usr/local/lib/python3.11/dist-packages (2.2.2)\n",
            "Requirement already satisfied: matplotlib in /usr/local/lib/python3.11/dist-packages (3.10.0)\n",
            "Requirement already satisfied: seaborn in /usr/local/lib/python3.11/dist-packages (0.13.2)\n",
            "Requirement already satisfied: joblib in /usr/local/lib/python3.11/dist-packages (1.4.2)\n",
            "Requirement already satisfied: scipy<1.14.0,>=1.7.0 in /usr/local/lib/python3.11/dist-packages (from gensim) (1.12.0)\n",
            "Requirement already satisfied: smart_open>=1.8.1 in /usr/local/lib/python3.11/dist-packages (from gensim) (7.1.0)\n",
            "Requirement already satisfied: click in /usr/local/lib/python3.11/dist-packages (from nltk) (8.1.8)\n",
            "Requirement already satisfied: regex>=2021.8.3 in /usr/local/lib/python3.11/dist-packages (from nltk) (2024.11.6)\n",
            "Requirement already satisfied: tqdm in /usr/local/lib/python3.11/dist-packages (from nltk) (4.67.1)\n",
            "Requirement already satisfied: threadpoolctl>=3.1.0 in /usr/local/lib/python3.11/dist-packages (from scikit-learn) (3.6.0)\n",
            "Requirement already satisfied: python-dateutil>=2.8.2 in /usr/local/lib/python3.11/dist-packages (from pandas) (2.8.2)\n",
            "Requirement already satisfied: pytz>=2020.1 in /usr/local/lib/python3.11/dist-packages (from pandas) (2025.2)\n",
            "Requirement already satisfied: tzdata>=2022.7 in /usr/local/lib/python3.11/dist-packages (from pandas) (2025.2)\n",
            "Requirement already satisfied: contourpy>=1.0.1 in /usr/local/lib/python3.11/dist-packages (from matplotlib) (1.3.1)\n",
            "Requirement already satisfied: cycler>=0.10 in /usr/local/lib/python3.11/dist-packages (from matplotlib) (0.12.1)\n",
            "Requirement already satisfied: fonttools>=4.22.0 in /usr/local/lib/python3.11/dist-packages (from matplotlib) (4.57.0)\n",
            "Requirement already satisfied: kiwisolver>=1.3.1 in /usr/local/lib/python3.11/dist-packages (from matplotlib) (1.4.8)\n",
            "Requirement already satisfied: packaging>=20.0 in /usr/local/lib/python3.11/dist-packages (from matplotlib) (24.2)\n",
            "Requirement already satisfied: pillow>=8 in /usr/local/lib/python3.11/dist-packages (from matplotlib) (11.1.0)\n",
            "Requirement already satisfied: pyparsing>=2.3.1 in /usr/local/lib/python3.11/dist-packages (from matplotlib) (3.2.3)\n",
            "Requirement already satisfied: six>=1.5 in /usr/local/lib/python3.11/dist-packages (from python-dateutil>=2.8.2->pandas) (1.17.0)\n",
            "Requirement already satisfied: wrapt in /usr/local/lib/python3.11/dist-packages (from smart_open>=1.8.1->gensim) (1.17.2)\n"
          ]
        }
      ],
      "source": [
        "!pip install gensim nltk scikit-learn numpy pandas matplotlib seaborn joblib"
      ]
    },
    {
      "cell_type": "markdown",
      "metadata": {
        "id": "7Ntes3MIr3xp"
      },
      "source": [
        "RESTART SESSION!"
      ]
    },
    {
      "cell_type": "code",
      "execution_count": 2,
      "metadata": {
        "colab": {
          "base_uri": "https://localhost:8080/"
        },
        "id": "u1uxkXmSrnKB",
        "outputId": "8a2db8a8-d0b5-4cca-9035-551a4b7fc7b1"
      },
      "outputs": [
        {
          "output_type": "stream",
          "name": "stderr",
          "text": [
            "[nltk_data] Downloading package punkt to /root/nltk_data...\n",
            "[nltk_data]   Unzipping tokenizers/punkt.zip.\n",
            "[nltk_data] Downloading package stopwords to /root/nltk_data...\n",
            "[nltk_data]   Unzipping corpora/stopwords.zip.\n",
            "[nltk_data] Downloading package wordnet to /root/nltk_data...\n",
            "[nltk_data] Downloading package averaged_perceptron_tagger to\n",
            "[nltk_data]     /root/nltk_data...\n",
            "[nltk_data]   Unzipping taggers/averaged_perceptron_tagger.zip.\n"
          ]
        },
        {
          "output_type": "execute_result",
          "data": {
            "text/plain": [
              "True"
            ]
          },
          "metadata": {},
          "execution_count": 2
        }
      ],
      "source": [
        "import nltk\n",
        "\n",
        "nltk.download('punkt')\n",
        "nltk.download('stopwords')\n",
        "nltk.download('wordnet')\n",
        "nltk.download('averaged_perceptron_tagger')\n"
      ]
    },
    {
      "cell_type": "code",
      "execution_count": 3,
      "metadata": {
        "colab": {
          "base_uri": "https://localhost:8080/"
        },
        "id": "u0kQ7GbWr9Co",
        "outputId": "c0ed7ca1-5e04-4b9a-9c31-c24417c6701a"
      },
      "outputs": [
        {
          "output_type": "stream",
          "name": "stderr",
          "text": [
            "[nltk_data] Downloading package punkt_tab to /root/nltk_data...\n",
            "[nltk_data]   Unzipping tokenizers/punkt_tab.zip.\n"
          ]
        },
        {
          "output_type": "execute_result",
          "data": {
            "text/plain": [
              "True"
            ]
          },
          "metadata": {},
          "execution_count": 3
        }
      ],
      "source": [
        "import nltk\n",
        "nltk.download('punkt_tab')\n"
      ]
    },
    {
      "cell_type": "code",
      "execution_count": 18,
      "metadata": {
        "colab": {
          "base_uri": "https://localhost:8080/"
        },
        "id": "aKO1o6eJr_j6",
        "outputId": "4c3aac2a-8053-43b3-aff3-c13167bd06ab"
      },
      "outputs": [
        {
          "output_type": "stream",
          "name": "stdout",
          "text": [
            "['This', 'is', 'a', 'test', 'sentence', '.']\n"
          ]
        }
      ],
      "source": [
        "from nltk.tokenize import word_tokenize\n",
        "\n",
        "sample_text = \"This is a test sentence.\"\n",
        "tokens = word_tokenize(sample_text)\n",
        "print(tokens)"
      ]
    },
    {
      "cell_type": "code",
      "execution_count": 4,
      "metadata": {
        "id": "YeDX_W-BsBJf"
      },
      "outputs": [],
      "source": [
        "import os\n",
        "import re\n",
        "import numpy as np\n",
        "import pandas as pd\n",
        "from tqdm import tqdm\n",
        "import torch\n",
        "from transformers import BertTokenizer, BertModel\n",
        "from sklearn.feature_extraction.text import TfidfVectorizer\n",
        "from sklearn.preprocessing import StandardScaler\n",
        "from sklearn.decomposition import PCA\n",
        "from sklearn.model_selection import train_test_split, StratifiedKFold, cross_val_score\n",
        "from sklearn.ensemble import VotingClassifier, RandomForestClassifier\n",
        "from sklearn.linear_model import LogisticRegression\n",
        "from sklearn.svm import SVC\n",
        "from xgboost import XGBClassifier\n",
        "from sklearn.metrics import classification_report, confusion_matrix\n",
        "import matplotlib.pyplot as plt\n",
        "import seaborn as sns\n",
        "import joblib"
      ]
    },
    {
      "cell_type": "markdown",
      "source": [
        "#Fine Tuning BERT on our Dataset so we can etxarct features later"
      ],
      "metadata": {
        "id": "vacdWD7Jc260"
      }
    },
    {
      "cell_type": "code",
      "execution_count": 5,
      "metadata": {
        "colab": {
          "base_uri": "https://localhost:8080/",
          "height": 1000,
          "referenced_widgets": [
            "6e0c12124fa6408280d937630c45c5b0",
            "87c8d80a3d2a4a16937a4ede1430417e",
            "fb9ee1dc86d6435798be00cdc04a0b4c",
            "bcb2b29a696b4fd8b0414e037c2f9659",
            "c6fe8cd59c75483eaf225dbbf4bda1e6",
            "e0d4972abb9b4ab4a2d2992056534d96",
            "8a1c508747234288a9cbb5213ed2dade",
            "317c26ee8847407892f22c0df81c1324",
            "7274739df0e3407b8d96d7c18d1355e5",
            "8eac3156711e4ce4b6d40d5411a99241",
            "85dd8dbdbf864d4e8751ae6a1e772af6",
            "e60ab87a745745d1b56a67c123776169",
            "6dc7e932cab4444cbf60aab9161f327c",
            "e619b0ef62824d34b1624160829e754b",
            "c424354416c74ae79f98896768913330",
            "04826ebb34d347d5841e094e10507c23",
            "006a2ac7a67a4e7d8332bc993f3091f1",
            "c90b164b4381424b8407e1b7e4742a23",
            "ccd0f05a8a2446d9bd08e9003c82070d",
            "843bc080871c441699a96e62719d2929",
            "e5b806b9ae3e45c7acdc94a3d0a2f9b8",
            "fd159a098ad544359ec0821dccf29b64",
            "e66475cced0e4b869d1f4f63d6bcb4b0",
            "ba9e47b6e3b64a11b1e835b2b9cea942",
            "fae2a5831b154a5988f5fe29ec9e8c09",
            "c3524f2b66f9418d92cbe95a1bb979c8",
            "67b87ca708f443d18a6a2d0fd91bfc09",
            "fc4d7f5219a34368a4d7208566add7c2",
            "179ccf48890c4333bd98b65b02a928f7",
            "5f2308f5bd194e68a34f2feae644bc08",
            "4fbb30246bba4f7887b5e83cf906d082",
            "96df23b6fa9042768354e9f5be59f00f",
            "d7f6126fd56d4a39b770438a3a76bb95",
            "9a5381947af845e4934d3e281bcdc0e9",
            "48f49fe1790a4a47b22262bd98d65f28",
            "508c86cb1601464c8250614995d72bbb",
            "b3c4dd7551d744b5b2cfd8a857300d5a",
            "0ed3fbd7c35e40a9bbb65b2580b06afe",
            "44db70de24754b28bd89b96994d20ebc",
            "11bc9e3861774585aea5f5fb073b09be",
            "5480ff8b83884b7d98852e7dbee87db3",
            "20ce7264f3614af09e56d7c929e2c597",
            "baf45f25d8244e40894b5b8e1d05cf70",
            "40c139b9aa82444f9c6580ad7a248b9d",
            "1e3185ecea9b4221855d5e1413bdd3ad",
            "4087874c09b44a7eaf889dc6db52e692",
            "f79b47716cea427597b068465a5ad459",
            "f97e554dc4aa49cfb1a5cf0cb18a15f9",
            "8a94202283a84662967225509f44ca3e",
            "52f4e9bfdf8f49f2b263e4bd1eb6d4d2",
            "50879c8e4ee7423389f9a519bea48116",
            "27a042a762a24d2b8d06a6a50bdbcf88",
            "98e0a040d7c0483caa42f1d385d11040",
            "1c3b9659c1cc4066b08363a8bb48bb7c",
            "6eca6b96b3cb4390a71fe1be3158769c"
          ]
        },
        "id": "fGj5F0RRsGmE",
        "outputId": "7302b145-81d3-4fc5-c70b-84a7a9bf2c39"
      },
      "outputs": [
        {
          "output_type": "stream",
          "name": "stderr",
          "text": [
            "/usr/local/lib/python3.11/dist-packages/huggingface_hub/utils/_auth.py:94: UserWarning: \n",
            "The secret `HF_TOKEN` does not exist in your Colab secrets.\n",
            "To authenticate with the Hugging Face Hub, create a token in your settings tab (https://huggingface.co/settings/tokens), set it as secret in your Google Colab and restart your session.\n",
            "You will be able to reuse this secret in all of your notebooks.\n",
            "Please note that authentication is recommended but still optional to access public models or datasets.\n",
            "  warnings.warn(\n"
          ]
        },
        {
          "output_type": "display_data",
          "data": {
            "text/plain": [
              "tokenizer_config.json:   0%|          | 0.00/48.0 [00:00<?, ?B/s]"
            ],
            "application/vnd.jupyter.widget-view+json": {
              "version_major": 2,
              "version_minor": 0,
              "model_id": "6e0c12124fa6408280d937630c45c5b0"
            }
          },
          "metadata": {}
        },
        {
          "output_type": "display_data",
          "data": {
            "text/plain": [
              "vocab.txt:   0%|          | 0.00/232k [00:00<?, ?B/s]"
            ],
            "application/vnd.jupyter.widget-view+json": {
              "version_major": 2,
              "version_minor": 0,
              "model_id": "e60ab87a745745d1b56a67c123776169"
            }
          },
          "metadata": {}
        },
        {
          "output_type": "display_data",
          "data": {
            "text/plain": [
              "tokenizer.json:   0%|          | 0.00/466k [00:00<?, ?B/s]"
            ],
            "application/vnd.jupyter.widget-view+json": {
              "version_major": 2,
              "version_minor": 0,
              "model_id": "e66475cced0e4b869d1f4f63d6bcb4b0"
            }
          },
          "metadata": {}
        },
        {
          "output_type": "display_data",
          "data": {
            "text/plain": [
              "config.json:   0%|          | 0.00/570 [00:00<?, ?B/s]"
            ],
            "application/vnd.jupyter.widget-view+json": {
              "version_major": 2,
              "version_minor": 0,
              "model_id": "9a5381947af845e4934d3e281bcdc0e9"
            }
          },
          "metadata": {}
        },
        {
          "output_type": "stream",
          "name": "stderr",
          "text": [
            "Xet Storage is enabled for this repo, but the 'hf_xet' package is not installed. Falling back to regular HTTP download. For better performance, install the package with: `pip install huggingface_hub[hf_xet]` or `pip install hf_xet`\n",
            "WARNING:huggingface_hub.file_download:Xet Storage is enabled for this repo, but the 'hf_xet' package is not installed. Falling back to regular HTTP download. For better performance, install the package with: `pip install huggingface_hub[hf_xet]` or `pip install hf_xet`\n"
          ]
        },
        {
          "output_type": "display_data",
          "data": {
            "text/plain": [
              "model.safetensors:   0%|          | 0.00/440M [00:00<?, ?B/s]"
            ],
            "application/vnd.jupyter.widget-view+json": {
              "version_major": 2,
              "version_minor": 0,
              "model_id": "1e3185ecea9b4221855d5e1413bdd3ad"
            }
          },
          "metadata": {}
        },
        {
          "output_type": "execute_result",
          "data": {
            "text/plain": [
              "BertModel(\n",
              "  (embeddings): BertEmbeddings(\n",
              "    (word_embeddings): Embedding(30522, 768, padding_idx=0)\n",
              "    (position_embeddings): Embedding(512, 768)\n",
              "    (token_type_embeddings): Embedding(2, 768)\n",
              "    (LayerNorm): LayerNorm((768,), eps=1e-12, elementwise_affine=True)\n",
              "    (dropout): Dropout(p=0.1, inplace=False)\n",
              "  )\n",
              "  (encoder): BertEncoder(\n",
              "    (layer): ModuleList(\n",
              "      (0-11): 12 x BertLayer(\n",
              "        (attention): BertAttention(\n",
              "          (self): BertSdpaSelfAttention(\n",
              "            (query): Linear(in_features=768, out_features=768, bias=True)\n",
              "            (key): Linear(in_features=768, out_features=768, bias=True)\n",
              "            (value): Linear(in_features=768, out_features=768, bias=True)\n",
              "            (dropout): Dropout(p=0.1, inplace=False)\n",
              "          )\n",
              "          (output): BertSelfOutput(\n",
              "            (dense): Linear(in_features=768, out_features=768, bias=True)\n",
              "            (LayerNorm): LayerNorm((768,), eps=1e-12, elementwise_affine=True)\n",
              "            (dropout): Dropout(p=0.1, inplace=False)\n",
              "          )\n",
              "        )\n",
              "        (intermediate): BertIntermediate(\n",
              "          (dense): Linear(in_features=768, out_features=3072, bias=True)\n",
              "          (intermediate_act_fn): GELUActivation()\n",
              "        )\n",
              "        (output): BertOutput(\n",
              "          (dense): Linear(in_features=3072, out_features=768, bias=True)\n",
              "          (LayerNorm): LayerNorm((768,), eps=1e-12, elementwise_affine=True)\n",
              "          (dropout): Dropout(p=0.1, inplace=False)\n",
              "        )\n",
              "      )\n",
              "    )\n",
              "  )\n",
              "  (pooler): BertPooler(\n",
              "    (dense): Linear(in_features=768, out_features=768, bias=True)\n",
              "    (activation): Tanh()\n",
              "  )\n",
              ")"
            ]
          },
          "metadata": {},
          "execution_count": 5
        }
      ],
      "source": [
        "from transformers import BertModel, BertTokenizer\n",
        "import torch\n",
        "\n",
        "# Set device for torch\n",
        "device = torch.device('cuda' if torch.cuda.is_available() else 'cpu')\n",
        "\n",
        "# Load the pretrained BERT model\n",
        "tokenizer = BertTokenizer.from_pretrained('bert-base-uncased')\n",
        "bert_model = BertModel.from_pretrained('bert-base-uncased').to(device)\n",
        "bert_model.eval()  # Put BERT in evaluation mode"
      ]
    },
    {
      "cell_type": "code",
      "execution_count": 9,
      "metadata": {
        "id": "lX6IsQOFsOKp"
      },
      "outputs": [],
      "source": [
        "from torch.optim import AdamW\n",
        "\n",
        "# Fine-tuning the BERT model\n",
        "optimizer = AdamW(bert_model.parameters(), lr=1e-5)\n"
      ]
    },
    {
      "cell_type": "code",
      "execution_count": 8,
      "metadata": {
        "id": "ZvBfcKLcsTC9"
      },
      "outputs": [],
      "source": [
        "from transformers import BertTokenizer, BertForSequenceClassification\n",
        "import torch"
      ]
    },
    {
      "cell_type": "code",
      "execution_count": 6,
      "metadata": {
        "id": "qO7cTFWwsfvp"
      },
      "outputs": [],
      "source": [
        "# Training data transcripts (each file starts with: \"LABEL: AD\" or \"LABEL: CN\")\n",
        "AD_TRANSCRIPT_DIR = '/content/drive/MyDrive/Datasets/ADReSSo21/diagnosis/train/transcript_ad/'\n",
        "CN_TRANSCRIPT_DIR = '/content/drive/MyDrive/Datasets/ADReSSo21/diagnosis/train/transcript_cn/'\n",
        "\n",
        "# Unseen test data transcripts (structure same as training, first line gives label)\n",
        "TEST_TRANSCRIPT_DIR = \"/content/drive/MyDrive/Datasets/ADReSSo21/diagnosis/test-dist/transcripts/\""
      ]
    },
    {
      "cell_type": "code",
      "execution_count": 19,
      "metadata": {
        "colab": {
          "base_uri": "https://localhost:8080/"
        },
        "id": "5EjW34pBsU-n",
        "outputId": "5f92d568-36ea-4315-9bda-9288b40441ce"
      },
      "outputs": [
        {
          "output_type": "stream",
          "name": "stderr",
          "text": [
            "Some weights of BertForSequenceClassification were not initialized from the model checkpoint at bert-base-uncased and are newly initialized: ['classifier.bias', 'classifier.weight']\n",
            "You should probably TRAIN this model on a down-stream task to be able to use it for predictions and inference.\n",
            "Loading /content/drive/MyDrive/Datasets/ADReSSo21/diagnosis/train/transcript_ad/: 100%|██████████| 87/87 [00:22<00:00,  3.88it/s]\n",
            "Loading /content/drive/MyDrive/Datasets/ADReSSo21/diagnosis/train/transcript_cn/: 100%|██████████| 79/79 [00:18<00:00,  4.30it/s]\n",
            "Loading transcripts: 100%|██████████| 71/71 [00:15<00:00,  4.55it/s]\n",
            "100%|██████████| 166/166 [01:05<00:00,  2.55it/s]\n",
            "100%|██████████| 71/71 [00:21<00:00,  3.30it/s]\n"
          ]
        }
      ],
      "source": [
        "device = torch.device('cuda' if torch.cuda.is_available() else 'cpu')\n",
        "\n",
        "# BERT Feature Extraction Setup\n",
        "tokenizer = BertTokenizer.from_pretrained('bert-base-uncased')\n",
        "bert_model = BertForSequenceClassification.from_pretrained('bert-base-uncased', num_labels=2).to(device)  # num_labels=2 for binary classification\n",
        "bert_model.eval()\n",
        "\n",
        "def extract_bert_features(text):\n",
        "    \"\"\"Extract a combined BERT feature (CLS, mean, max) from text.\"\"\"\n",
        "    tokens = tokenizer(text, return_tensors='pt', truncation=True, padding=True, max_length=512)\n",
        "    tokens = {key: val.to(device) for key, val in tokens.items()}\n",
        "    with torch.no_grad():\n",
        "        outputs = bert_model(**tokens)\n",
        "    cls_embedding = outputs.logits[:, 0]  # [CLS] token (last hidden state logits)\n",
        "    return cls_embedding.cpu().numpy().flatten()\n",
        "\n",
        "# Data Loading & Preprocessing Functions\n",
        "def parse_transcript(file_path):\n",
        "    with open(file_path, 'r', encoding='utf-8') as f:\n",
        "        lines = f.readlines()\n",
        "    if len(lines) == 0:\n",
        "        return None, \"\"\n",
        "    label_match = re.match(r'LABEL:\\s*(AD|CN)', lines[0].strip(), flags=re.IGNORECASE)\n",
        "    label = label_match.group(1).upper() if label_match else None\n",
        "    text = \" \".join(line.strip() for line in lines[1:]).strip()\n",
        "    return label, text\n",
        "\n",
        "def load_dataset(transcript_dir):\n",
        "    texts = []\n",
        "    labels = []\n",
        "    for file in tqdm(os.listdir(transcript_dir), desc=\"Loading transcripts\"):\n",
        "        if file.endswith('.txt'):\n",
        "            file_path = os.path.join(transcript_dir, file)\n",
        "            label_str, text = parse_transcript(file_path)\n",
        "            if text:\n",
        "                texts.append(text)\n",
        "                labels.append(1 if label_str == \"AD\" else 0)\n",
        "    return texts, np.array(labels)\n",
        "\n",
        "# Load training and test data\n",
        "train_texts = []\n",
        "train_labels = []\n",
        "for folder, lbl in [(AD_TRANSCRIPT_DIR, 1), (CN_TRANSCRIPT_DIR, 0)]:\n",
        "    for file in tqdm(os.listdir(folder), desc=f\"Loading {folder}\"):\n",
        "        if file.endswith('.txt'):\n",
        "            file_path = os.path.join(folder, file)\n",
        "            with open(file_path, 'r', encoding='utf-8') as f:\n",
        "                content = f.read().strip()\n",
        "            content = re.sub(r'^LABEL:\\s*(AD|CN)\\s*', '', content, flags=re.IGNORECASE).strip()\n",
        "            if content:\n",
        "                train_texts.append(content)\n",
        "                train_labels.append(lbl)\n",
        "train_labels = np.array(train_labels)\n",
        "\n",
        "test_texts, test_labels = load_dataset(TEST_TRANSCRIPT_DIR)\n",
        "\n",
        "# Feature Extraction (BERT and TF-IDF)\n",
        "bert_features_train = np.array([extract_bert_features(text) for text in tqdm(train_texts)])\n",
        "tfidf = TfidfVectorizer(max_features=300)\n",
        "tfidf_features_train = tfidf.fit_transform(train_texts).toarray()\n",
        "\n",
        "X_train_full = np.hstack([bert_features_train, tfidf_features_train])\n",
        "y_train_full = train_labels\n",
        "\n",
        "bert_features_test = np.array([extract_bert_features(text) for text in tqdm(test_texts)])\n",
        "tfidf_features_test = tfidf.transform(test_texts).toarray()\n",
        "X_test_full = np.hstack([bert_features_test, tfidf_features_test])\n",
        "y_test_full = test_labels\n",
        "\n",
        "# Preprocessing Pipeline: Scaling and PCA\n",
        "scaler = StandardScaler()\n",
        "X_train_scaled = scaler.fit_transform(X_train_full)\n",
        "X_test_scaled = scaler.transform(X_test_full)\n",
        "\n",
        "pca = PCA(n_components=50)\n",
        "X_train_pca = pca.fit_transform(X_train_scaled)\n",
        "X_test_pca = pca.transform(X_test_scaled)\n",
        "\n",
        "# Fine-tuning BERT Model\n",
        "optimizer = AdamW(bert_model.parameters(), lr=1e-5)\n",
        "\n",
        "def fine_tune_bert(train_texts, labels):\n",
        "    \"\"\"Fine-tune the BERT model for sequence classification.\"\"\"\n",
        "    bert_model.train()\n",
        "    for epoch in range(3):  # Fine-tune for 3 epochs\n",
        "        for text, label in zip(train_texts, labels):\n",
        "            tokens = tokenizer(text, return_tensors='pt', truncation=True, padding=True, max_length=512)\n",
        "            tokens = {key: val.to(device) for key, val in tokens.items()}\n",
        "            labels_tensor = torch.tensor([label]).to(device)\n",
        "            optimizer.zero_grad()\n",
        "            outputs = bert_model(**tokens, labels=labels_tensor)\n",
        "            loss = outputs.loss\n",
        "            loss.backward()\n",
        "            optimizer.step()\n",
        "\n",
        "fine_tune_bert(train_texts, train_labels)"
      ]
    },
    {
      "cell_type": "code",
      "source": [
        "# Save fine-tuned model weights\n",
        "save_path = \"fine_tuned_bert.pth\"\n",
        "torch.save(bert_model.state_dict(), save_path)\n",
        "print(f\"Model weights saved to {save_path}\")"
      ],
      "metadata": {
        "colab": {
          "base_uri": "https://localhost:8080/"
        },
        "id": "bwlt7SG5cZjP",
        "outputId": "1231578a-9080-4a39-cc71-6f1234cc584d"
      },
      "execution_count": 22,
      "outputs": [
        {
          "output_type": "stream",
          "name": "stdout",
          "text": [
            "Model weights saved to fine_tuned_bert.pth\n"
          ]
        }
      ]
    },
    {
      "cell_type": "code",
      "source": [
        "# Load fine-tuned weights into a fresh BERT model\n",
        "bert_model = BertForSequenceClassification.from_pretrained('bert-base-uncased', num_labels=2).to(device)\n",
        "bert_model.load_state_dict(torch.load(\"fine_tuned_bert.pth\", map_location=device))\n",
        "bert_model.eval()\n",
        "print(\"Fine-tuned model loaded successfully.\")\n"
      ],
      "metadata": {
        "colab": {
          "base_uri": "https://localhost:8080/"
        },
        "id": "29XuXoNicbOS",
        "outputId": "d0b8dcca-9794-45a3-a092-1ff196f26ce8"
      },
      "execution_count": 23,
      "outputs": [
        {
          "output_type": "stream",
          "name": "stderr",
          "text": [
            "Some weights of BertForSequenceClassification were not initialized from the model checkpoint at bert-base-uncased and are newly initialized: ['classifier.bias', 'classifier.weight']\n",
            "You should probably TRAIN this model on a down-stream task to be able to use it for predictions and inference.\n"
          ]
        },
        {
          "output_type": "stream",
          "name": "stdout",
          "text": [
            "Fine-tuned model loaded successfully.\n"
          ]
        }
      ]
    },
    {
      "cell_type": "markdown",
      "metadata": {
        "id": "CjCCKLAwuNis"
      },
      "source": [
        "For Loading in Future"
      ]
    },
    {
      "cell_type": "code",
      "source": [
        "from sklearn.feature_extraction.text import TfidfVectorizer\n",
        "from sklearn.preprocessing import StandardScaler\n",
        "from sklearn.decomposition import PCA\n",
        "from sklearn.model_selection import train_test_split, StratifiedKFold, cross_val_score, GridSearchCV\n",
        "from sklearn.ensemble import VotingClassifier, RandomForestClassifier\n",
        "from sklearn.linear_model import LogisticRegression\n",
        "from sklearn.svm import SVC\n",
        "from xgboost import XGBClassifier\n",
        "from sklearn.feature_selection import SelectKBest, chi2\n",
        "from sklearn.metrics import classification_report, confusion_matrix\n",
        "import matplotlib.pyplot as plt\n",
        "import seaborn as sns\n",
        "import joblib"
      ],
      "metadata": {
        "id": "05sQqfQt3uYq"
      },
      "execution_count": 24,
      "outputs": []
    },
    {
      "cell_type": "code",
      "source": [
        "from sklearn.model_selection import GridSearchCV\n",
        "from sklearn.ensemble import VotingClassifier\n",
        "from sklearn.linear_model import LogisticRegression\n",
        "from sklearn.ensemble import RandomForestClassifier\n",
        "from sklearn.svm import SVC\n",
        "from xgboost import XGBClassifier"
      ],
      "metadata": {
        "id": "yWFzq9Cw4QKj"
      },
      "execution_count": 25,
      "outputs": []
    },
    {
      "cell_type": "markdown",
      "source": [
        "Not needed until I find end"
      ],
      "metadata": {
        "id": "HetREGrVYuYt"
      }
    },
    {
      "cell_type": "code",
      "execution_count": 26,
      "metadata": {
        "id": "pg8jk5xWuENT",
        "colab": {
          "base_uri": "https://localhost:8080/",
          "height": 87
        },
        "outputId": "b0994475-0b53-4f07-94bd-3b7fb43dc882"
      },
      "outputs": [
        {
          "output_type": "execute_result",
          "data": {
            "text/plain": [
              "\"# Best hyperparameters (picked manually)\\nbest_params = {\\n    'lr__C': 0.1,\\n    'rf__n_estimators': 100,\\n    'svm__C': 1.0,\\n    'xgb__learning_rate': 0.01\\n}\\n\\n# Model initializations with best params\\nmodel_lr = LogisticRegression(C=best_params['lr__C'], class_weight='balanced', max_iter=1000, random_state=42)\\nmodel_rf = RandomForestClassifier(n_estimators=best_params['rf__n_estimators'], random_state=42)\\nmodel_svm = SVC(kernel='rbf', C=best_params['svm__C'], class_weight='balanced', probability=True, random_state=42)\\nmodel_xgb = XGBClassifier(learning_rate=best_params['xgb__learning_rate'], use_label_encoder=False, eval_metric='logloss', random_state=42)\\n\\n# Ensemble model (Voting Classifier)\\nensemble = VotingClassifier(estimators=[\\n    ('lr', model_lr),\\n    ('rf', model_rf),\\n    ('svm', model_svm),\\n    ('xgb', model_xgb)\\n], voting='soft') \""
            ],
            "application/vnd.google.colaboratory.intrinsic+json": {
              "type": "string"
            }
          },
          "metadata": {},
          "execution_count": 26
        }
      ],
      "source": [
        "'''# Best hyperparameters (picked manually)\n",
        "best_params = {\n",
        "    'lr__C': 0.1,\n",
        "    'rf__n_estimators': 100,\n",
        "    'svm__C': 1.0,\n",
        "    'xgb__learning_rate': 0.01\n",
        "}\n",
        "\n",
        "# Model initializations with best params\n",
        "model_lr = LogisticRegression(C=best_params['lr__C'], class_weight='balanced', max_iter=1000, random_state=42)\n",
        "model_rf = RandomForestClassifier(n_estimators=best_params['rf__n_estimators'], random_state=42)\n",
        "model_svm = SVC(kernel='rbf', C=best_params['svm__C'], class_weight='balanced', probability=True, random_state=42)\n",
        "model_xgb = XGBClassifier(learning_rate=best_params['xgb__learning_rate'], use_label_encoder=False, eval_metric='logloss', random_state=42)\n",
        "\n",
        "# Ensemble model (Voting Classifier)\n",
        "ensemble = VotingClassifier(estimators=[\n",
        "    ('lr', model_lr),\n",
        "    ('rf', model_rf),\n",
        "    ('svm', model_svm),\n",
        "    ('xgb', model_xgb)\n",
        "], voting='soft') '''"
      ]
    },
    {
      "cell_type": "code",
      "execution_count": 28,
      "metadata": {
        "id": "_euf44NYs7bX",
        "colab": {
          "base_uri": "https://localhost:8080/",
          "height": 35
        },
        "outputId": "f7c826ff-5d24-4c86-dfa1-79e78c6144f1"
      },
      "outputs": [
        {
          "output_type": "execute_result",
          "data": {
            "text/plain": [
              "'\\n# Train ensemble on full training data\\nensemble.fit(X_train_pca, y_train_full) '"
            ],
            "application/vnd.google.colaboratory.intrinsic+json": {
              "type": "string"
            }
          },
          "metadata": {},
          "execution_count": 28
        }
      ],
      "source": [
        "'''\n",
        "# Train ensemble on full training data\n",
        "ensemble.fit(X_train_pca, y_train_full) '''"
      ]
    },
    {
      "cell_type": "code",
      "source": [
        "'''# Evaluate on test data\n",
        "y_pred_test = ensemble.predict(X_test_pca)\n",
        "print(\"\\nFinal Model Classification Report on Test Data:\")\n",
        "print(classification_report(y_test_full, y_pred_test, target_names=[\"CN\", \"AD\"]))\n",
        "\n",
        "# Confusion Matrix\n",
        "cm = confusion_matrix(y_test_full, y_pred_test)\n",
        "plt.figure(figsize=(6, 5))\n",
        "sns.heatmap(cm, annot=True, fmt=\"d\", cmap=\"Blues\", xticklabels=[\"CN\", \"AD\"], yticklabels=[\"CN\", \"AD\"])\n",
        "plt.xlabel(\"Predicted Label\")\n",
        "plt.ylabel(\"True Label\")\n",
        "plt.title(\"Confusion Matrix - Test Data\")\n",
        "plt.show() '''"
      ],
      "metadata": {
        "colab": {
          "base_uri": "https://localhost:8080/",
          "height": 52
        },
        "id": "6JJe-X3T3hn4",
        "outputId": "18d783dc-a65a-440f-e5ca-350f1bb2b17d"
      },
      "execution_count": 29,
      "outputs": [
        {
          "output_type": "execute_result",
          "data": {
            "text/plain": [
              "'# Evaluate on test data\\ny_pred_test = ensemble.predict(X_test_pca)\\nprint(\"\\nFinal Model Classification Report on Test Data:\")\\nprint(classification_report(y_test_full, y_pred_test, target_names=[\"CN\", \"AD\"]))\\n\\n# Confusion Matrix\\ncm = confusion_matrix(y_test_full, y_pred_test)\\nplt.figure(figsize=(6, 5))\\nsns.heatmap(cm, annot=True, fmt=\"d\", cmap=\"Blues\", xticklabels=[\"CN\", \"AD\"], yticklabels=[\"CN\", \"AD\"])\\nplt.xlabel(\"Predicted Label\")\\nplt.ylabel(\"True Label\")\\nplt.title(\"Confusion Matrix - Test Data\")\\nplt.show() '"
            ],
            "application/vnd.google.colaboratory.intrinsic+json": {
              "type": "string"
            }
          },
          "metadata": {},
          "execution_count": 29
        }
      ]
    },
    {
      "cell_type": "code",
      "source": [
        "'''joblib.dump(ensemble, '/content/tuned_ensemble_model.pkl')\n",
        "joblib.dump(scaler, '/content/tuned_scaler.pkl')\n",
        "joblib.dump(pca, '/content/tuned_pca.pkl')\n",
        "joblib.dump(tfidf, '/content/tuned_tfidf_vectorizer.pkl')\n",
        "print(\"Models and preprocessing objects saved.\") '''"
      ],
      "metadata": {
        "colab": {
          "base_uri": "https://localhost:8080/",
          "height": 35
        },
        "id": "wFL0lSRWB7Xe",
        "outputId": "4e97c764-4e53-47df-fcef-4cd381bfb1eb"
      },
      "execution_count": 30,
      "outputs": [
        {
          "output_type": "execute_result",
          "data": {
            "text/plain": [
              "'joblib.dump(ensemble, \\'/content/tuned_ensemble_model.pkl\\')\\njoblib.dump(scaler, \\'/content/tuned_scaler.pkl\\')\\njoblib.dump(pca, \\'/content/tuned_pca.pkl\\')\\njoblib.dump(tfidf, \\'/content/tuned_tfidf_vectorizer.pkl\\')\\nprint(\"Models and preprocessing objects saved.\") '"
            ],
            "application/vnd.google.colaboratory.intrinsic+json": {
              "type": "string"
            }
          },
          "metadata": {},
          "execution_count": 30
        }
      ]
    },
    {
      "cell_type": "markdown",
      "source": [
        "end"
      ],
      "metadata": {
        "id": "AascljDzYzI2"
      }
    },
    {
      "cell_type": "markdown",
      "source": [
        "##Lingusitic Feature Extraction using the Find tuned BERT"
      ],
      "metadata": {
        "id": "YV83tMqEEpAd"
      }
    },
    {
      "cell_type": "code",
      "source": [
        "device = torch.device('cuda' if torch.cuda.is_available() else 'cpu')\n",
        "\n",
        "# Initialize from base model\n",
        "tokenizer = BertTokenizer.from_pretrained('bert-base-uncased')\n",
        "bert_model = BertForSequenceClassification.from_pretrained('bert-base-uncased', num_labels=2).to(device)\n",
        "\n",
        "# Load fine-tuned weights\n",
        "checkpoint_path = 'fine_tuned_bert.pth'\n",
        "bert_model.load_state_dict(torch.load(checkpoint_path, map_location=device))\n",
        "bert_model.eval()\n",
        "\n",
        "# Extract BERT CLS Features\n",
        "def extract_bert_features(text):\n",
        "    tokens = tokenizer(text, return_tensors='pt', truncation=True, padding=True, max_length=512)\n",
        "    tokens = {key: val.to(device) for key, val in tokens.items()}\n",
        "    with torch.no_grad():\n",
        "        outputs = bert_model(**tokens)\n",
        "    cls_embedding = outputs.logits[:, 0]  # Get [CLS]-like representation from logits\n",
        "    return cls_embedding.cpu().numpy().flatten()\n",
        "\n",
        "# Data Loading & Preprocessing Functions\n",
        "def parse_transcript(file_path):\n",
        "    with open(file_path, 'r', encoding='utf-8') as f:\n",
        "        lines = f.readlines()\n",
        "    if len(lines) == 0:\n",
        "        return None, \"\"\n",
        "    label_match = re.match(r'LABEL:\\s*(AD|CN)', lines[0].strip(), flags=re.IGNORECASE)\n",
        "    label = label_match.group(1).upper() if label_match else None\n",
        "    text = \" \".join(line.strip() for line in lines[1:]).strip()\n",
        "    return label, text\n",
        "\n",
        "def load_dataset(transcript_dir):\n",
        "    texts = []\n",
        "    labels = []\n",
        "    for file in tqdm(os.listdir(transcript_dir), desc=\"Loading transcripts\"):\n",
        "        if file.endswith('.txt'):\n",
        "            file_path = os.path.join(transcript_dir, file)\n",
        "            label_str, text = parse_transcript(file_path)\n",
        "            if text:\n",
        "                texts.append(text)\n",
        "                labels.append(1 if label_str == \"AD\" else 0)\n",
        "    return texts, np.array(labels)\n",
        "\n",
        "# Load training and test data\n",
        "train_texts = []\n",
        "train_labels = []\n",
        "for folder, lbl in [(AD_TRANSCRIPT_DIR, 1), (CN_TRANSCRIPT_DIR, 0)]:\n",
        "    for file in tqdm(os.listdir(folder), desc=f\"Loading {folder}\"):\n",
        "        if file.endswith('.txt'):\n",
        "            file_path = os.path.join(folder, file)\n",
        "            with open(file_path, 'r', encoding='utf-8') as f:\n",
        "                content = f.read().strip()\n",
        "            content = re.sub(r'^LABEL:\\s*(AD|CN)\\s*', '', content, flags=re.IGNORECASE).strip()\n",
        "            if content:\n",
        "                train_texts.append(content)\n",
        "                train_labels.append(lbl)\n",
        "train_labels = np.array(train_labels)\n",
        "\n",
        "test_texts, test_labels = load_dataset(TEST_TRANSCRIPT_DIR)\n",
        "\n",
        "# Feature Extraction (BERT and TF-IDF)\n",
        "bert_features_train = np.array([extract_bert_features(text) for text in tqdm(train_texts)])\n",
        "tfidf = TfidfVectorizer(max_features=300)\n",
        "tfidf_features_train = tfidf.fit_transform(train_texts).toarray()\n",
        "\n",
        "X_train_full = np.hstack([bert_features_train, tfidf_features_train])\n",
        "y_train_full = train_labels\n",
        "\n",
        "bert_features_test = np.array([extract_bert_features(text) for text in tqdm(test_texts)])\n",
        "tfidf_features_test = tfidf.transform(test_texts).toarray()\n",
        "X_test_full = np.hstack([bert_features_test, tfidf_features_test])\n",
        "y_test_full = test_labels\n",
        "\n",
        "# Preprocessing Pipeline: Scaling and PCA\n",
        "scaler = StandardScaler()\n",
        "X_train_scaled = scaler.fit_transform(X_train_full)\n",
        "X_test_scaled = scaler.transform(X_test_full)\n",
        "\n",
        "pca = PCA(n_components=50)\n",
        "X_train_pca = pca.fit_transform(X_train_scaled)\n",
        "X_test_pca = pca.transform(X_test_scaled)\n",
        "\n",
        "'''\n",
        "# Define the models and hyperparameters\n",
        "svm = SVC(C=1.0, kernel='linear')\n",
        "rf = RandomForestClassifier(n_estimators=100)\n",
        "xgb = XGBClassifier(learning_rate=0.2, n_estimators=100)\n",
        "\n",
        "##Not needed until end\n",
        "\n",
        "\n",
        "# Train on the features\n",
        "svm.fit(X_train_pca, y_train_full)\n",
        "rf.fit(X_train_pca, y_train_full)\n",
        "xgb.fit(X_train_pca, y_train_full)\n",
        "\n",
        "# Evaluate on Test Data\n",
        "y_pred_svm = svm.predict(X_test_pca)\n",
        "y_pred_rf = rf.predict(X_test_pca)\n",
        "y_pred_xgb = xgb.predict(X_test_pca)\n",
        "\n",
        "# Combine results (majority vote)\n",
        "y_pred_final = np.round((y_pred_svm + y_pred_rf + y_pred_xgb) / 3)\n",
        "\n",
        "# Classification Report\n",
        "print(\"\\nFinal Model Classification Report on Test Data:\")\n",
        "print(classification_report(y_test_full, y_pred_final, target_names=[\"CN\", \"AD\"]))\n",
        "\n",
        "# Plot Confusion Matrix\n",
        "cm = confusion_matrix(y_test_full, y_pred_final)\n",
        "plt.figure(figsize=(6, 5))\n",
        "sns.heatmap(cm, annot=True, fmt=\"d\", cmap=\"Blues\", xticklabels=[\"CN\", \"AD\"], yticklabels=[\"CN\", \"AD\"])\n",
        "plt.xlabel(\"Predicted Label\")\n",
        "plt.ylabel(\"True Label\")\n",
        "plt.title(\"Confusion Matrix - Test Data\")\n",
        "plt.show()\n",
        "'''"
      ],
      "metadata": {
        "colab": {
          "base_uri": "https://localhost:8080/",
          "height": 1000
        },
        "id": "VQYNmFiVC1UR",
        "outputId": "98aec0bb-7da4-4404-ac8f-1bf4ebc4a086"
      },
      "execution_count": 32,
      "outputs": [
        {
          "output_type": "stream",
          "name": "stderr",
          "text": [
            "Some weights of BertForSequenceClassification were not initialized from the model checkpoint at bert-base-uncased and are newly initialized: ['classifier.bias', 'classifier.weight']\n",
            "You should probably TRAIN this model on a down-stream task to be able to use it for predictions and inference.\n",
            "\n",
            "Loading /content/drive/MyDrive/Datasets/ADReSSo21/diagnosis/train/transcript_ad/:   0%|          | 0/87 [00:00<?, ?it/s]\u001b[A\n",
            "Loading /content/drive/MyDrive/Datasets/ADReSSo21/diagnosis/train/transcript_ad/:  38%|███▊      | 33/87 [00:00<00:00, 328.96it/s]\u001b[A\n",
            "Loading /content/drive/MyDrive/Datasets/ADReSSo21/diagnosis/train/transcript_ad/: 100%|██████████| 87/87 [00:00<00:00, 387.90it/s]\n",
            "\n",
            "Loading /content/drive/MyDrive/Datasets/ADReSSo21/diagnosis/train/transcript_cn/:   0%|          | 0/79 [00:00<?, ?it/s]\u001b[A\n",
            "Loading /content/drive/MyDrive/Datasets/ADReSSo21/diagnosis/train/transcript_cn/:  47%|████▋     | 37/79 [00:00<00:00, 369.30it/s]\u001b[A\n",
            "Loading /content/drive/MyDrive/Datasets/ADReSSo21/diagnosis/train/transcript_cn/: 100%|██████████| 79/79 [00:00<00:00, 371.97it/s]\n",
            "\n",
            "Loading transcripts:   0%|          | 0/71 [00:00<?, ?it/s]\u001b[A\n",
            "Loading transcripts: 100%|██████████| 71/71 [00:00<00:00, 437.57it/s]\n",
            "\n",
            "  0%|          | 0/166 [00:00<?, ?it/s]\u001b[A\n",
            "  1%|          | 1/166 [00:01<03:57,  1.44s/it]\u001b[A\n",
            "  1%|          | 2/166 [00:01<01:55,  1.42it/s]\u001b[A\n",
            "  2%|▏         | 3/166 [00:01<01:21,  1.99it/s]\u001b[A\n",
            "  2%|▏         | 4/166 [00:02<00:59,  2.73it/s]\u001b[A\n",
            "  4%|▎         | 6/166 [00:02<00:47,  3.36it/s]\u001b[A\n",
            "  4%|▍         | 7/166 [00:02<00:45,  3.47it/s]\u001b[A\n",
            "  5%|▍         | 8/166 [00:03<01:07,  2.35it/s]\u001b[A\n",
            "  5%|▌         | 9/166 [00:04<01:16,  2.04it/s]\u001b[A\n",
            "  6%|▌         | 10/166 [00:04<01:18,  1.99it/s]\u001b[A\n",
            "  7%|▋         | 11/166 [00:05<01:19,  1.95it/s]\u001b[A\n",
            "  7%|▋         | 12/166 [00:05<01:19,  1.93it/s]\u001b[A\n",
            "  8%|▊         | 13/166 [00:06<01:09,  2.21it/s]\u001b[A\n",
            "  8%|▊         | 14/166 [00:06<01:14,  2.04it/s]\u001b[A\n",
            "  9%|▉         | 15/166 [00:07<01:15,  2.00it/s]\u001b[A\n",
            " 10%|▉         | 16/166 [00:07<01:09,  2.16it/s]\u001b[A\n",
            " 10%|█         | 17/166 [00:07<00:55,  2.70it/s]\u001b[A\n",
            " 11%|█         | 18/166 [00:07<00:48,  3.07it/s]\u001b[A\n",
            " 11%|█▏        | 19/166 [00:08<00:48,  3.04it/s]\u001b[A\n",
            " 12%|█▏        | 20/166 [00:08<00:52,  2.80it/s]\u001b[A\n",
            " 13%|█▎        | 21/166 [00:09<01:03,  2.30it/s]\u001b[A\n",
            " 13%|█▎        | 22/166 [00:09<01:03,  2.25it/s]\u001b[A\n",
            " 14%|█▍        | 23/166 [00:10<00:58,  2.47it/s]\u001b[A\n",
            " 14%|█▍        | 24/166 [00:10<00:59,  2.38it/s]\u001b[A\n",
            " 15%|█▌        | 25/166 [00:11<01:02,  2.26it/s]\u001b[A\n",
            " 16%|█▌        | 26/166 [00:11<01:11,  1.97it/s]\u001b[A\n",
            " 16%|█▋        | 27/166 [00:12<01:10,  1.98it/s]\u001b[A\n",
            " 17%|█▋        | 28/166 [00:12<01:02,  2.21it/s]\u001b[A\n",
            " 17%|█▋        | 29/166 [00:12<00:49,  2.78it/s]\u001b[A\n",
            " 18%|█▊        | 30/166 [00:12<00:46,  2.94it/s]\u001b[A\n",
            " 19%|█▊        | 31/166 [00:13<00:37,  3.57it/s]\u001b[A\n",
            " 19%|█▉        | 32/166 [00:13<00:32,  4.08it/s]\u001b[A\n",
            " 20%|█▉        | 33/166 [00:13<00:36,  3.62it/s]\u001b[A\n",
            " 20%|██        | 34/166 [00:13<00:32,  4.05it/s]\u001b[A\n",
            " 21%|██        | 35/166 [00:14<00:44,  2.92it/s]\u001b[A\n",
            " 22%|██▏       | 36/166 [00:14<00:35,  3.69it/s]\u001b[A\n",
            " 22%|██▏       | 37/166 [00:15<00:50,  2.58it/s]\u001b[A\n",
            " 23%|██▎       | 38/166 [00:15<00:40,  3.17it/s]\u001b[A\n",
            " 23%|██▎       | 39/166 [00:15<00:39,  3.24it/s]\u001b[A\n",
            " 24%|██▍       | 40/166 [00:16<00:47,  2.65it/s]\u001b[A\n",
            " 25%|██▍       | 41/166 [00:16<00:37,  3.31it/s]\u001b[A\n",
            " 25%|██▌       | 42/166 [00:16<00:37,  3.33it/s]\u001b[A\n",
            " 26%|██▌       | 43/166 [00:16<00:33,  3.71it/s]\u001b[A\n",
            " 27%|██▋       | 44/166 [00:17<00:52,  2.32it/s]\u001b[A\n",
            " 27%|██▋       | 45/166 [00:18<00:58,  2.07it/s]\u001b[A\n",
            " 28%|██▊       | 46/166 [00:18<01:02,  1.93it/s]\u001b[A\n",
            " 28%|██▊       | 47/166 [00:19<00:55,  2.16it/s]\u001b[A\n",
            " 29%|██▉       | 48/166 [00:19<01:03,  1.86it/s]\u001b[A\n",
            " 30%|██▉       | 49/166 [00:20<00:55,  2.10it/s]\u001b[A\n",
            " 30%|███       | 50/166 [00:20<00:44,  2.60it/s]\u001b[A\n",
            " 31%|███       | 51/166 [00:21<01:08,  1.68it/s]\u001b[A\n",
            " 31%|███▏      | 52/166 [00:21<00:54,  2.07it/s]\u001b[A\n",
            " 32%|███▏      | 53/166 [00:22<00:57,  1.96it/s]\u001b[A\n",
            " 33%|███▎      | 54/166 [00:22<00:51,  2.19it/s]\u001b[A\n",
            " 33%|███▎      | 55/166 [00:22<00:47,  2.32it/s]\u001b[A\n",
            " 34%|███▎      | 56/166 [00:23<00:48,  2.27it/s]\u001b[A\n",
            " 34%|███▍      | 57/166 [00:23<00:52,  2.09it/s]\u001b[A\n",
            " 35%|███▍      | 58/166 [00:24<00:40,  2.69it/s]\u001b[A\n",
            " 36%|███▌      | 59/166 [00:24<00:39,  2.68it/s]\u001b[A\n",
            " 36%|███▌      | 60/166 [00:24<00:33,  3.12it/s]\u001b[A\n",
            " 37%|███▋      | 61/166 [00:25<00:37,  2.82it/s]\u001b[A\n",
            " 38%|███▊      | 63/166 [00:25<00:24,  4.15it/s]\u001b[A\n",
            " 39%|███▊      | 64/166 [00:25<00:30,  3.40it/s]\u001b[A\n",
            " 39%|███▉      | 65/166 [00:25<00:25,  4.01it/s]\u001b[A\n",
            " 40%|███▉      | 66/166 [00:26<00:22,  4.42it/s]\u001b[A\n",
            " 40%|████      | 67/166 [00:26<00:30,  3.29it/s]\u001b[A\n",
            " 41%|████      | 68/166 [00:27<00:41,  2.33it/s]\u001b[A\n",
            " 42%|████▏     | 69/166 [00:27<00:42,  2.31it/s]\u001b[A\n",
            " 42%|████▏     | 70/166 [00:27<00:34,  2.79it/s]\u001b[A\n",
            " 43%|████▎     | 71/166 [00:28<00:27,  3.42it/s]\u001b[A\n",
            " 43%|████▎     | 72/166 [00:28<00:35,  2.68it/s]\u001b[A\n",
            " 44%|████▍     | 73/166 [00:28<00:27,  3.38it/s]\u001b[A\n",
            " 45%|████▍     | 74/166 [00:28<00:23,  3.92it/s]\u001b[A\n",
            " 45%|████▌     | 75/166 [00:29<00:21,  4.25it/s]\u001b[A\n",
            " 46%|████▌     | 76/166 [00:29<00:18,  4.82it/s]\u001b[A\n",
            " 46%|████▋     | 77/166 [00:29<00:21,  4.18it/s]\u001b[A\n",
            " 47%|████▋     | 78/166 [00:29<00:20,  4.36it/s]\u001b[A\n",
            " 48%|████▊     | 79/166 [00:30<00:26,  3.29it/s]\u001b[A\n",
            " 48%|████▊     | 80/166 [00:30<00:21,  4.02it/s]\u001b[A\n",
            " 49%|████▉     | 81/166 [00:30<00:19,  4.46it/s]\u001b[A\n",
            " 49%|████▉     | 82/166 [00:30<00:20,  4.01it/s]\u001b[A\n",
            " 50%|█████     | 83/166 [00:30<00:18,  4.47it/s]\u001b[A\n",
            " 51%|█████     | 84/166 [00:31<00:20,  3.97it/s]\u001b[A\n",
            " 51%|█████     | 85/166 [00:31<00:24,  3.29it/s]\u001b[A\n",
            " 52%|█████▏    | 86/166 [00:32<00:29,  2.74it/s]\u001b[A\n",
            " 52%|█████▏    | 87/166 [00:32<00:26,  2.93it/s]\u001b[A\n",
            " 53%|█████▎    | 88/166 [00:32<00:26,  2.99it/s]\u001b[A\n",
            " 54%|█████▎    | 89/166 [00:33<00:42,  1.83it/s]\u001b[A\n",
            " 54%|█████▍    | 90/166 [00:35<00:56,  1.35it/s]\u001b[A\n",
            " 55%|█████▍    | 91/166 [00:35<00:57,  1.31it/s]\u001b[A\n",
            " 55%|█████▌    | 92/166 [00:35<00:41,  1.77it/s]\u001b[A\n",
            " 56%|█████▌    | 93/166 [00:36<00:44,  1.64it/s]\u001b[A\n",
            " 57%|█████▋    | 94/166 [00:37<00:38,  1.89it/s]\u001b[A\n",
            " 57%|█████▋    | 95/166 [00:37<00:30,  2.34it/s]\u001b[A\n",
            " 58%|█████▊    | 96/166 [00:37<00:34,  2.03it/s]\u001b[A\n",
            " 58%|█████▊    | 97/166 [00:38<00:37,  1.86it/s]\u001b[A\n",
            " 59%|█████▉    | 98/166 [00:38<00:35,  1.94it/s]\u001b[A\n",
            " 60%|█████▉    | 99/166 [00:39<00:37,  1.79it/s]\u001b[A\n",
            " 60%|██████    | 100/166 [00:39<00:33,  1.99it/s]\u001b[A\n",
            " 61%|██████    | 101/166 [00:40<00:30,  2.16it/s]\u001b[A\n",
            " 61%|██████▏   | 102/166 [00:40<00:29,  2.20it/s]\u001b[A\n",
            " 62%|██████▏   | 103/166 [00:41<00:28,  2.19it/s]\u001b[A\n",
            " 63%|██████▎   | 104/166 [00:41<00:33,  1.84it/s]\u001b[A\n",
            " 63%|██████▎   | 105/166 [00:42<00:34,  1.77it/s]\u001b[A\n",
            " 64%|██████▍   | 106/166 [00:42<00:26,  2.31it/s]\u001b[A\n",
            " 64%|██████▍   | 107/166 [00:42<00:21,  2.71it/s]\u001b[A\n",
            " 65%|██████▌   | 108/166 [00:43<00:21,  2.72it/s]\u001b[A\n",
            " 66%|██████▌   | 109/166 [00:43<00:22,  2.49it/s]\u001b[A\n",
            " 66%|██████▋   | 110/166 [00:44<00:25,  2.16it/s]\u001b[A\n",
            " 67%|██████▋   | 111/166 [00:44<00:20,  2.72it/s]\u001b[A\n",
            " 67%|██████▋   | 112/166 [00:44<00:19,  2.79it/s]\u001b[A\n",
            " 68%|██████▊   | 113/166 [00:45<00:16,  3.24it/s]\u001b[A\n",
            " 69%|██████▊   | 114/166 [00:46<00:34,  1.49it/s]\u001b[A\n",
            " 69%|██████▉   | 115/166 [00:47<00:32,  1.59it/s]\u001b[A\n",
            " 70%|██████▉   | 116/166 [00:47<00:32,  1.55it/s]\u001b[A\n",
            " 70%|███████   | 117/166 [00:48<00:28,  1.72it/s]\u001b[A\n",
            " 71%|███████   | 118/166 [00:48<00:23,  2.02it/s]\u001b[A\n",
            " 72%|███████▏  | 119/166 [00:48<00:21,  2.18it/s]\u001b[A\n",
            " 72%|███████▏  | 120/166 [00:49<00:22,  2.04it/s]\u001b[A\n",
            " 73%|███████▎  | 121/166 [00:49<00:18,  2.44it/s]\u001b[A\n",
            " 73%|███████▎  | 122/166 [00:50<00:18,  2.32it/s]\u001b[A\n",
            " 74%|███████▍  | 123/166 [00:50<00:16,  2.53it/s]\u001b[A\n",
            " 75%|███████▍  | 124/166 [00:51<00:24,  1.69it/s]\u001b[A\n",
            " 75%|███████▌  | 125/166 [00:51<00:20,  1.95it/s]\u001b[A\n",
            " 76%|███████▌  | 126/166 [00:52<00:19,  2.05it/s]\u001b[A\n",
            " 77%|███████▋  | 127/166 [00:52<00:20,  1.92it/s]\u001b[A\n",
            " 77%|███████▋  | 128/166 [00:53<00:18,  2.04it/s]\u001b[A\n",
            " 78%|███████▊  | 129/166 [00:53<00:17,  2.10it/s]\u001b[A\n",
            " 78%|███████▊  | 130/166 [00:54<00:16,  2.12it/s]\u001b[A\n",
            " 79%|███████▉  | 131/166 [00:54<00:12,  2.75it/s]\u001b[A\n",
            " 80%|███████▉  | 132/166 [00:54<00:12,  2.66it/s]\u001b[A\n",
            " 80%|████████  | 133/166 [00:55<00:19,  1.72it/s]\u001b[A\n",
            " 81%|████████  | 134/166 [00:56<00:17,  1.81it/s]\u001b[A\n",
            " 81%|████████▏ | 135/166 [00:57<00:19,  1.56it/s]\u001b[A\n",
            " 82%|████████▏ | 136/166 [00:57<00:16,  1.82it/s]\u001b[A\n",
            " 83%|████████▎ | 137/166 [00:57<00:12,  2.23it/s]\u001b[A\n",
            " 83%|████████▎ | 138/166 [00:58<00:14,  1.97it/s]\u001b[A\n",
            " 84%|████████▎ | 139/166 [00:58<00:13,  2.02it/s]\u001b[A\n",
            " 84%|████████▍ | 140/166 [00:59<00:11,  2.20it/s]\u001b[A\n",
            " 85%|████████▍ | 141/166 [00:59<00:09,  2.60it/s]\u001b[A\n",
            " 86%|████████▌ | 142/166 [00:59<00:10,  2.30it/s]\u001b[A\n",
            " 86%|████████▌ | 143/166 [01:01<00:14,  1.59it/s]\u001b[A\n",
            " 87%|████████▋ | 144/166 [01:01<00:11,  1.92it/s]\u001b[A\n",
            " 87%|████████▋ | 145/166 [01:02<00:13,  1.59it/s]\u001b[A\n",
            " 88%|████████▊ | 146/166 [01:03<00:14,  1.42it/s]\u001b[A\n",
            " 89%|████████▊ | 147/166 [01:03<00:13,  1.36it/s]\u001b[A\n",
            " 89%|████████▉ | 148/166 [01:04<00:11,  1.56it/s]\u001b[A\n",
            " 90%|████████▉ | 149/166 [01:04<00:09,  1.79it/s]\u001b[A\n",
            " 90%|█████████ | 150/166 [01:04<00:07,  2.03it/s]\u001b[A\n",
            " 91%|█████████ | 151/166 [01:05<00:05,  2.54it/s]\u001b[A\n",
            " 92%|█████████▏| 152/166 [01:05<00:05,  2.34it/s]\u001b[A\n",
            " 92%|█████████▏| 153/166 [01:05<00:04,  2.74it/s]\u001b[A\n",
            " 93%|█████████▎| 154/166 [01:05<00:03,  3.35it/s]\u001b[A\n",
            " 93%|█████████▎| 155/166 [01:06<00:03,  3.46it/s]\u001b[A\n",
            " 94%|█████████▍| 156/166 [01:06<00:03,  2.97it/s]\u001b[A\n",
            " 95%|█████████▍| 157/166 [01:07<00:03,  2.63it/s]\u001b[A\n",
            " 95%|█████████▌| 158/166 [01:07<00:03,  2.12it/s]\u001b[A\n",
            " 96%|█████████▌| 159/166 [01:08<00:02,  2.60it/s]\u001b[A\n",
            " 96%|█████████▋| 160/166 [01:08<00:02,  2.22it/s]\u001b[A\n",
            " 97%|█████████▋| 161/166 [01:08<00:01,  2.83it/s]\u001b[A\n",
            " 98%|█████████▊| 162/166 [01:09<00:01,  3.00it/s]\u001b[A\n",
            " 98%|█████████▊| 163/166 [01:09<00:01,  2.96it/s]\u001b[A\n",
            " 99%|█████████▉| 164/166 [01:09<00:00,  2.99it/s]\u001b[A\n",
            " 99%|█████████▉| 165/166 [01:10<00:00,  2.77it/s]\u001b[A\n",
            "100%|██████████| 166/166 [01:10<00:00,  2.35it/s]\n",
            "\n",
            "  0%|          | 0/71 [00:00<?, ?it/s]\u001b[A\n",
            "  1%|▏         | 1/71 [00:00<00:11,  6.07it/s]\u001b[A\n",
            "  3%|▎         | 2/71 [00:00<00:18,  3.72it/s]\u001b[A\n",
            "  4%|▍         | 3/71 [00:00<00:15,  4.32it/s]\u001b[A\n",
            "  6%|▌         | 4/71 [00:00<00:17,  3.88it/s]\u001b[A\n",
            "  7%|▋         | 5/71 [00:01<00:15,  4.31it/s]\u001b[A\n",
            "  8%|▊         | 6/71 [00:01<00:14,  4.53it/s]\u001b[A\n",
            " 10%|▉         | 7/71 [00:01<00:21,  3.00it/s]\u001b[A\n",
            " 11%|█▏        | 8/71 [00:02<00:19,  3.18it/s]\u001b[A\n",
            " 13%|█▎        | 9/71 [00:02<00:17,  3.59it/s]\u001b[A\n",
            " 14%|█▍        | 10/71 [00:02<00:18,  3.31it/s]\u001b[A\n",
            " 15%|█▌        | 11/71 [00:02<00:16,  3.58it/s]\u001b[A\n",
            " 17%|█▋        | 12/71 [00:03<00:19,  3.08it/s]\u001b[A\n",
            " 18%|█▊        | 13/71 [00:04<00:23,  2.43it/s]\u001b[A\n",
            " 20%|█▉        | 14/71 [00:04<00:21,  2.66it/s]\u001b[A\n",
            " 21%|██        | 15/71 [00:04<00:22,  2.45it/s]\u001b[A\n",
            " 23%|██▎       | 16/71 [00:05<00:22,  2.39it/s]\u001b[A\n",
            " 24%|██▍       | 17/71 [00:05<00:22,  2.40it/s]\u001b[A\n",
            " 25%|██▌       | 18/71 [00:06<00:22,  2.39it/s]\u001b[A\n",
            " 27%|██▋       | 19/71 [00:06<00:27,  1.89it/s]\u001b[A\n",
            " 28%|██▊       | 20/71 [00:07<00:23,  2.15it/s]\u001b[A\n",
            " 30%|██▉       | 21/71 [00:07<00:21,  2.35it/s]\u001b[A\n",
            " 31%|███       | 22/71 [00:07<00:16,  2.93it/s]\u001b[A\n",
            " 32%|███▏      | 23/71 [00:08<00:16,  2.89it/s]\u001b[A\n",
            " 34%|███▍      | 24/71 [00:08<00:13,  3.50it/s]\u001b[A\n",
            " 35%|███▌      | 25/71 [00:08<00:12,  3.74it/s]\u001b[A\n",
            " 37%|███▋      | 26/71 [00:08<00:10,  4.09it/s]\u001b[A\n",
            " 38%|███▊      | 27/71 [00:08<00:09,  4.57it/s]\u001b[A\n",
            " 39%|███▉      | 28/71 [00:08<00:08,  4.80it/s]\u001b[A\n",
            " 41%|████      | 29/71 [00:09<00:10,  3.88it/s]\u001b[A\n",
            " 42%|████▏     | 30/71 [00:09<00:09,  4.42it/s]\u001b[A\n",
            " 44%|████▎     | 31/71 [00:09<00:10,  3.91it/s]\u001b[A\n",
            " 45%|████▌     | 32/71 [00:09<00:09,  4.12it/s]\u001b[A\n",
            " 46%|████▋     | 33/71 [00:10<00:08,  4.32it/s]\u001b[A\n",
            " 48%|████▊     | 34/71 [00:10<00:08,  4.35it/s]\u001b[A\n",
            " 49%|████▉     | 35/71 [00:10<00:08,  4.47it/s]\u001b[A\n",
            " 51%|█████     | 36/71 [00:10<00:07,  4.58it/s]\u001b[A\n",
            " 52%|█████▏    | 37/71 [00:11<00:09,  3.51it/s]\u001b[A\n",
            " 54%|█████▎    | 38/71 [00:11<00:08,  3.87it/s]\u001b[A\n",
            " 55%|█████▍    | 39/71 [00:12<00:12,  2.64it/s]\u001b[A\n",
            " 56%|█████▋    | 40/71 [00:12<00:11,  2.72it/s]\u001b[A\n",
            " 58%|█████▊    | 41/71 [00:12<00:09,  3.08it/s]\u001b[A\n",
            " 59%|█████▉    | 42/71 [00:12<00:08,  3.56it/s]\u001b[A\n",
            " 61%|██████    | 43/71 [00:13<00:06,  4.19it/s]\u001b[A\n",
            " 62%|██████▏   | 44/71 [00:13<00:06,  4.25it/s]\u001b[A\n",
            " 63%|██████▎   | 45/71 [00:13<00:07,  3.27it/s]\u001b[A\n",
            " 65%|██████▍   | 46/71 [00:14<00:09,  2.62it/s]\u001b[A\n",
            " 66%|██████▌   | 47/71 [00:14<00:09,  2.59it/s]\u001b[A\n",
            " 68%|██████▊   | 48/71 [00:15<00:08,  2.62it/s]\u001b[A\n",
            " 69%|██████▉   | 49/71 [00:15<00:07,  2.78it/s]\u001b[A\n",
            " 70%|███████   | 50/71 [00:15<00:06,  3.30it/s]\u001b[A\n",
            " 72%|███████▏  | 51/71 [00:15<00:06,  3.12it/s]\u001b[A\n",
            " 73%|███████▎  | 52/71 [00:16<00:07,  2.68it/s]\u001b[A\n",
            " 75%|███████▍  | 53/71 [00:16<00:07,  2.53it/s]\u001b[A\n",
            " 76%|███████▌  | 54/71 [00:16<00:05,  3.15it/s]\u001b[A\n",
            " 77%|███████▋  | 55/71 [00:17<00:04,  3.53it/s]\u001b[A\n",
            " 79%|███████▉  | 56/71 [00:17<00:04,  3.06it/s]\u001b[A\n",
            " 80%|████████  | 57/71 [00:17<00:04,  3.13it/s]\u001b[A\n",
            " 82%|████████▏ | 58/71 [00:18<00:04,  3.15it/s]\u001b[A\n",
            " 83%|████████▎ | 59/71 [00:18<00:05,  2.30it/s]\u001b[A\n",
            " 85%|████████▍ | 60/71 [00:19<00:04,  2.66it/s]\u001b[A\n",
            " 86%|████████▌ | 61/71 [00:19<00:04,  2.08it/s]\u001b[A\n",
            " 87%|████████▋ | 62/71 [00:20<00:04,  1.93it/s]\u001b[A\n",
            " 89%|████████▊ | 63/71 [00:20<00:03,  2.01it/s]\u001b[A\n",
            " 90%|█████████ | 64/71 [00:21<00:03,  2.06it/s]\u001b[A\n",
            " 92%|█████████▏| 65/71 [00:21<00:02,  2.10it/s]\u001b[A\n",
            " 93%|█████████▎| 66/71 [00:22<00:02,  2.14it/s]\u001b[A\n",
            " 94%|█████████▍| 67/71 [00:22<00:01,  2.33it/s]\u001b[A\n",
            " 96%|█████████▌| 68/71 [00:23<00:01,  2.38it/s]\u001b[A\n",
            " 97%|█████████▋| 69/71 [00:23<00:00,  3.07it/s]\u001b[A\n",
            " 99%|█████████▊| 70/71 [00:23<00:00,  3.41it/s]\u001b[A\n",
            "100%|██████████| 71/71 [00:23<00:00,  3.01it/s]\n"
          ]
        },
        {
          "output_type": "execute_result",
          "data": {
            "text/plain": [
              "'\\n# Define the models and hyperparameters\\nsvm = SVC(C=1.0, kernel=\\'linear\\')\\nrf = RandomForestClassifier(n_estimators=100)\\nxgb = XGBClassifier(learning_rate=0.2, n_estimators=100)\\n\\n##Not needed until end\\n\\n\\n# Train on the features\\nsvm.fit(X_train_pca, y_train_full)\\nrf.fit(X_train_pca, y_train_full)\\nxgb.fit(X_train_pca, y_train_full)\\n\\n# Evaluate on Test Data\\ny_pred_svm = svm.predict(X_test_pca)\\ny_pred_rf = rf.predict(X_test_pca)\\ny_pred_xgb = xgb.predict(X_test_pca)\\n\\n# Combine results (majority vote)\\ny_pred_final = np.round((y_pred_svm + y_pred_rf + y_pred_xgb) / 3)\\n\\n# Classification Report\\nprint(\"\\nFinal Model Classification Report on Test Data:\")\\nprint(classification_report(y_test_full, y_pred_final, target_names=[\"CN\", \"AD\"]))\\n\\n# Plot Confusion Matrix\\ncm = confusion_matrix(y_test_full, y_pred_final)\\nplt.figure(figsize=(6, 5))\\nsns.heatmap(cm, annot=True, fmt=\"d\", cmap=\"Blues\", xticklabels=[\"CN\", \"AD\"], yticklabels=[\"CN\", \"AD\"])\\nplt.xlabel(\"Predicted Label\")\\nplt.ylabel(\"True Label\")\\nplt.title(\"Confusion Matrix - Test Data\")\\nplt.show()\\n'"
            ],
            "application/vnd.google.colaboratory.intrinsic+json": {
              "type": "string"
            }
          },
          "metadata": {},
          "execution_count": 32
        }
      ]
    },
    {
      "cell_type": "code",
      "source": [
        "# Save linguistic features (both train and test)\n",
        "linguistic_features_train_df = pd.DataFrame(X_train_pca, columns=[f'ling_{i+1}' for i in range(X_train_pca.shape[1])])\n",
        "linguistic_features_train_df['file_name'] = [f\"train_file_{i}\" for i in range(len(train_texts))]\n",
        "linguistic_features_train_df['label'] = y_train_full\n",
        "\n",
        "linguistic_features_test_df = pd.DataFrame(X_test_pca, columns=[f'ling_{i+1}' for i in range(X_test_pca.shape[1])])\n",
        "linguistic_features_test_df['file_name'] = [f\"test_file_{i}\" for i in range(len(test_texts))]\n",
        "linguistic_features_test_df['label'] = y_test_full\n",
        "\n",
        "# Save to CSV\n",
        "linguistic_features_train_df.to_csv('linguistic_features_train.csv', index=False)\n",
        "linguistic_features_test_df.to_csv('linguistic_features_test.csv', index=False)\n",
        "\n",
        "print(\"Linguistic features saved as 'linguistic_features_train.csv' and 'linguistic_features_test.csv'\")"
      ],
      "metadata": {
        "colab": {
          "base_uri": "https://localhost:8080/"
        },
        "id": "Yt8SKwmdEqy5",
        "outputId": "59c1fe0e-0b6d-4c68-8e3e-a33aa5d50166"
      },
      "execution_count": 33,
      "outputs": [
        {
          "output_type": "stream",
          "name": "stdout",
          "text": [
            "Linguistic features saved as 'linguistic_features_train.csv' and 'linguistic_features_test.csv'\n"
          ]
        }
      ]
    },
    {
      "cell_type": "code",
      "source": [
        "'''from transformers import BertTokenizer, BertForSequenceClassification\n",
        "import torch\n",
        "\n",
        "# Define the path to your saved model\n",
        "saved_model_path = 'fine_tuned_bert.pth'\n",
        "\n",
        "# Load the tokenizer\n",
        "tokenizer = BertTokenizer.from_pretrained('bert-base-uncased')\n",
        "\n",
        "# Initialize the model architecture\n",
        "model = BertForSequenceClassification.from_pretrained('bert-base-uncased', num_labels=2)\n",
        "\n",
        "# Load the saved weights\n",
        "model.load_state_dict(torch.load(saved_model_path, map_location=torch.device('cpu')))\n",
        "\n",
        "# Set the model to evaluation mode\n",
        "model.eval()'''"
      ],
      "metadata": {
        "colab": {
          "base_uri": "https://localhost:8080/",
          "height": 52
        },
        "id": "MZ0NT3H9R_Vv",
        "outputId": "7e3bc06b-6a17-4084-e3ed-ffb150098159"
      },
      "execution_count": 34,
      "outputs": [
        {
          "output_type": "execute_result",
          "data": {
            "text/plain": [
              "\"from transformers import BertTokenizer, BertForSequenceClassification\\nimport torch\\n\\n# Define the path to your saved model\\nsaved_model_path = 'fine_tuned_bert.pth'\\n\\n# Load the tokenizer\\ntokenizer = BertTokenizer.from_pretrained('bert-base-uncased')\\n\\n# Initialize the model architecture\\nmodel = BertForSequenceClassification.from_pretrained('bert-base-uncased', num_labels=2)\\n\\n# Load the saved weights\\nmodel.load_state_dict(torch.load(saved_model_path, map_location=torch.device('cpu')))\\n\\n# Set the model to evaluation mode\\nmodel.eval()\""
            ],
            "application/vnd.google.colaboratory.intrinsic+json": {
              "type": "string"
            }
          },
          "metadata": {},
          "execution_count": 34
        }
      ]
    },
    {
      "cell_type": "code",
      "source": [
        "'''# After training your model\n",
        "xgb_model = XGBClassifier(learning_rate=0.2, n_estimators=100)\n",
        "xgb_model.fit(X_train_pca, y_train_full)\n",
        "\n",
        "# Save the model using the built-in save_model method\n",
        "xgb_model.save_model('v2-xgb_model.json')'''"
      ],
      "metadata": {
        "colab": {
          "base_uri": "https://localhost:8080/",
          "height": 35
        },
        "id": "BKH4wY1FSC2f",
        "outputId": "a2d65533-6475-4c35-9387-7d3179ad44ff"
      },
      "execution_count": 36,
      "outputs": [
        {
          "output_type": "execute_result",
          "data": {
            "text/plain": [
              "\"# After training your model\\nxgb_model = XGBClassifier(learning_rate=0.2, n_estimators=100)\\nxgb_model.fit(X_train_pca, y_train_full)\\n\\n# Save the model using the built-in save_model method\\nxgb_model.save_model('v2-xgb_model.json')\""
            ],
            "application/vnd.google.colaboratory.intrinsic+json": {
              "type": "string"
            }
          },
          "metadata": {},
          "execution_count": 36
        }
      ]
    },
    {
      "cell_type": "code",
      "source": [
        "'''import joblib\n",
        "from xgboost import XGBClassifier\n",
        "\n",
        "# Save the trained models\n",
        "joblib.dump(svm, 'v2-svm_model.pkl')\n",
        "joblib.dump(rf, 'v2-rf_model.pkl')\n",
        "\n",
        "\n",
        "print(\"Models saved successfully!\")'''"
      ],
      "metadata": {
        "colab": {
          "base_uri": "https://localhost:8080/",
          "height": 35
        },
        "id": "hEBwxc62G6cd",
        "outputId": "5fafcfc9-f5d8-4849-a4b8-55d004cf6a31"
      },
      "execution_count": 35,
      "outputs": [
        {
          "output_type": "execute_result",
          "data": {
            "text/plain": [
              "'import joblib\\nfrom xgboost import XGBClassifier\\n\\n# Save the trained models\\njoblib.dump(svm, \\'v2-svm_model.pkl\\')\\njoblib.dump(rf, \\'v2-rf_model.pkl\\')\\n\\n\\nprint(\"Models saved successfully!\")'"
            ],
            "application/vnd.google.colaboratory.intrinsic+json": {
              "type": "string"
            }
          },
          "metadata": {},
          "execution_count": 35
        }
      ]
    },
    {
      "cell_type": "code",
      "source": [
        "'''import joblib\n",
        "\n",
        "# Save the model\n",
        "joblib.dump(xgb_model, 'v2-xgb_model.pkl')\n",
        "\n",
        "# Load the model\n",
        "xgb_model_loaded = joblib.load('v2-xgb_model.pkl') '''\n"
      ],
      "metadata": {
        "colab": {
          "base_uri": "https://localhost:8080/",
          "height": 35
        },
        "id": "q-TpBmViSJon",
        "outputId": "852d8569-7161-4c11-f3ff-a3fd53f85bcc"
      },
      "execution_count": 37,
      "outputs": [
        {
          "output_type": "execute_result",
          "data": {
            "text/plain": [
              "\"import joblib\\n\\n# Save the model\\njoblib.dump(xgb_model, 'v2-xgb_model.pkl')\\n\\n# Load the model\\nxgb_model_loaded = joblib.load('v2-xgb_model.pkl') \""
            ],
            "application/vnd.google.colaboratory.intrinsic+json": {
              "type": "string"
            }
          },
          "metadata": {},
          "execution_count": 37
        }
      ]
    },
    {
      "cell_type": "markdown",
      "source": [
        "#Adding File names so can be merged with Aocustic f"
      ],
      "metadata": {
        "id": "jxdTQ3SRePiw"
      }
    },
    {
      "cell_type": "code",
      "source": [
        "import pandas as pd\n",
        "import os\n",
        "\n",
        "# Load the linguistic features CSV files\n",
        "linguistic_features_train_df = pd.read_csv('linguistic_features_train.csv')\n",
        "linguistic_features_test_df = pd.read_csv('linguistic_features_test.csv')\n",
        "\n",
        "# Get the list of file names for training data (AD and CN transcripts)\n",
        "file_names_train = []\n",
        "for folder in [AD_TRANSCRIPT_DIR, CN_TRANSCRIPT_DIR]:\n",
        "    for file in os.listdir(folder):\n",
        "        if file.endswith('.txt'):\n",
        "            file_names_train.append(file)\n",
        "\n",
        "# Get the list of file names for test data\n",
        "file_names_test = []\n",
        "for file in os.listdir(TEST_TRANSCRIPT_DIR):\n",
        "    if file.endswith('.txt'):\n",
        "        file_names_test.append(file)\n",
        "\n",
        "# Add the 'file_name' column as the first column for both train and test data\n",
        "linguistic_features_train_df['file_name'] = file_names_train\n",
        "linguistic_features_test_df['file_name'] = file_names_test\n",
        "\n",
        "# Reorder columns to ensure 'file_name' is the first column\n",
        "linguistic_features_train_df = linguistic_features_train_df[['file_name'] + [col for col in linguistic_features_train_df.columns if col != 'file_name']]\n",
        "linguistic_features_test_df = linguistic_features_test_df[['file_name'] + [col for col in linguistic_features_test_df.columns if col != 'file_name']]\n",
        "\n",
        "# Save the updated CSV files\n",
        "linguistic_features_train_df.to_csv('linguistic_features_train_with_filename.csv', index=False)\n",
        "linguistic_features_test_df.to_csv('linguistic_features_test_with_filename.csv', index=False)\n",
        "\n",
        "print(\"File names added and saved to new CSV files: 'linguistic_features_train_with_filename.csv' and 'linguistic_features_test_with_filename.csv'\")\n"
      ],
      "metadata": {
        "colab": {
          "base_uri": "https://localhost:8080/"
        },
        "id": "Q336M82_HEm7",
        "outputId": "61199349-6975-404f-e05a-aff6e57354c3"
      },
      "execution_count": 38,
      "outputs": [
        {
          "output_type": "stream",
          "name": "stdout",
          "text": [
            "File names added and saved to new CSV files: 'linguistic_features_train_with_filename.csv' and 'linguistic_features_test_with_filename.csv'\n"
          ]
        }
      ]
    },
    {
      "cell_type": "markdown",
      "source": [
        "##Fusion With Aoucstics"
      ],
      "metadata": {
        "id": "4PnqfQv3PFM8"
      }
    },
    {
      "cell_type": "code",
      "source": [
        "import pandas as pd\n",
        "\n",
        "# Load training and test datasets\n",
        "linguistic_train = pd.read_csv('linguistic_features_train_with_filename.csv')\n",
        "linguistic_test = pd.read_csv('linguistic_features_test_with_filename.csv')\n",
        "\n",
        "acoustic_train = pd.read_csv('final_features_wav2vec2.csv') #your features\n",
        "acoustic_test = pd.read_csv('AD_features_test_labeled.csv')\n",
        "\n",
        "# Check the loaded data to ensure correctness\n",
        "print(linguistic_train.head())\n",
        "print(acoustic_train.head())"
      ],
      "metadata": {
        "colab": {
          "base_uri": "https://localhost:8080/"
        },
        "id": "VE6gDo3iOujI",
        "outputId": "806bbc50-67fc-462c-c8d9-0473843027d8"
      },
      "execution_count": 40,
      "outputs": [
        {
          "output_type": "stream",
          "name": "stdout",
          "text": [
            "      file_name    ling_1    ling_2    ling_3    ling_4    ling_5    ling_6  \\\n",
            "0  adrso045.txt -2.455970  3.483006 -0.293439  0.906873 -2.156063 -1.648047   \n",
            "1  adrso043.txt -7.528323 -0.664878  2.332610 -0.557666  1.147433 -1.196586   \n",
            "2  adrso036.txt -4.932811 -0.028923 -1.849975 -1.390229  0.905723  0.574485   \n",
            "3  adrso049.txt -4.569845 -0.075591 -2.662065 -1.709029 -0.562683 -0.115292   \n",
            "4  adrso060.txt -2.265536 -0.032223 -2.995042  0.594909  2.184746  0.554750   \n",
            "\n",
            "     ling_7    ling_8    ling_9  ...   ling_42   ling_43   ling_44   ling_45  \\\n",
            "0  0.072165  0.083252 -2.521463  ...  1.032314 -3.684203  1.746054 -1.670153   \n",
            "1  1.124233 -0.313116 -1.026317  ...  0.548346 -1.946133 -1.107596 -0.460667   \n",
            "2 -2.799979  0.671932 -0.287018  ... -1.874876 -2.795186  0.764712  1.752394   \n",
            "3 -3.168979  0.814978  0.428167  ... -2.044575  0.382417  0.289203 -0.251424   \n",
            "4 -0.675202 -0.471912  0.551778  ...  0.865963  0.217623 -0.538199 -0.485389   \n",
            "\n",
            "    ling_46   ling_47   ling_48   ling_49   ling_50  label  \n",
            "0 -0.288506  0.329139  0.381468  0.049483  0.364369      1  \n",
            "1 -1.369481 -1.003189 -1.482838 -1.677543 -2.668428      1  \n",
            "2 -1.505496 -0.299907  0.167870  1.622719 -0.414565      1  \n",
            "3 -0.915990  1.205191 -2.057908 -0.193048  0.513106      1  \n",
            "4 -0.677144 -1.328850 -1.004611  0.276744  0.208160      1  \n",
            "\n",
            "[5 rows x 52 columns]\n",
            "  file_name  Feature_0  Feature_4  Feature_7  Feature_14  Feature_16  \\\n",
            "0  adrso002  -0.037970   0.046800  -0.031287    0.020566   -0.532113   \n",
            "1  adrso003  -0.006309   0.090920  -0.037657   -0.002618   -0.496124   \n",
            "2  adrso005  -0.021514   0.041136  -0.026037    0.013310   -0.490043   \n",
            "3  adrso007  -0.006608   0.076797  -0.025979    0.007527   -0.574775   \n",
            "4  adrso008  -0.016727   0.081952  -0.027300    0.020397   -0.455651   \n",
            "\n",
            "   Feature_17  Feature_18  Feature_19  Feature_20  ...  Feature_749  \\\n",
            "0    0.278980    0.021638    0.161928   -0.177275  ...     0.045882   \n",
            "1    0.265499    0.022683    0.162621   -0.158652  ...     0.006762   \n",
            "2    0.274180    0.022849    0.158371   -0.201082  ...     0.039979   \n",
            "3    0.267045    0.017645    0.148149   -0.178541  ...     0.029068   \n",
            "4    0.288427    0.025931    0.132623   -0.173771  ...    -0.007284   \n",
            "\n",
            "   Feature_751  Feature_752  Feature_756  Feature_758  Feature_760  \\\n",
            "0     0.051147     0.076150    -0.006520     0.239803    -0.146691   \n",
            "1     0.046559     0.028266    -0.004177     0.194153    -0.152950   \n",
            "2     0.038858     0.041509    -0.003659     0.246767    -0.097819   \n",
            "3     0.034322     0.066917    -0.011168     0.219895    -0.093630   \n",
            "4     0.035615     0.020622    -0.010850     0.186697    -0.126223   \n",
            "\n",
            "   Feature_765  Feature_766  Feature_767  label  \n",
            "0    -0.074232     0.009409    -0.002967      0  \n",
            "1    -0.071135     0.005775    -0.032863      0  \n",
            "2    -0.038450     0.024960    -0.003454      0  \n",
            "3    -0.084071     0.003949    -0.021618      0  \n",
            "4    -0.088297     0.004934     0.009422      0  \n",
            "\n",
            "[5 rows x 326 columns]\n"
          ]
        }
      ]
    },
    {
      "cell_type": "code",
      "source": [
        "import pandas as pd\n",
        "\n",
        "\n",
        "acoustic_train =  pd.read_csv('final_features_wav2vec2.csv')\n",
        "linguistic_train = pd.read_csv('linguistic_features_train_with_filename.csv')\n",
        "acoustic_test = pd.read_csv('AD_features_test_labeled.csv')\n",
        "linguistic_test = pd.read_csv('linguistic_features_test_with_filename.csv')\n",
        "\n",
        "\n",
        "# Function to remove extension and normalize filename\n",
        "def clean_filename(name):\n",
        "    return name.strip().lower().split('.')[0]  # removes .wav or .txt\n",
        "\n",
        "# Apply to all\n",
        "for df in [acoustic_train, linguistic_train, acoustic_test, linguistic_test]:\n",
        "    df['file_name'] = df['file_name'].apply(clean_filename)\n",
        "\n",
        "# Merge only matching entries, skip mismatches\n",
        "def fuse_and_validate_inner(acoustic_df, linguistic_df, set_name=\"train\"):\n",
        "    merged = pd.merge(acoustic_df, linguistic_df, on='file_name', suffixes=('_acous', '_ling'))\n",
        "\n",
        "    # Keep only rows with matching labels\n",
        "    matched = merged[merged['label_acous'] == merged['label_ling']].copy()\n",
        "\n",
        "    # Rename label column and drop the other\n",
        "    matched['label'] = matched['label_acous']\n",
        "    matched.drop(['label_acous', 'label_ling'], axis=1, inplace=True)\n",
        "\n",
        "    print(f\"✅ {set_name.capitalize()} set: {len(matched)} matched records kept out of {len(merged)} merged\")\n",
        "\n",
        "    return matched\n",
        "\n",
        "# Fuse both sets\n",
        "fused_train = fuse_and_validate_inner(acoustic_train, linguistic_train, set_name=\"train\")\n",
        "fused_test = fuse_and_validate_inner(acoustic_test, linguistic_test, set_name=\"test\")\n",
        "\n",
        "# Save the fused data\n",
        "fused_train.to_csv(\"l3-fused_features_train.csv\", index=False)\n",
        "fused_test.to_csv(\"l3-fused_features_test.csv\", index=False)\n",
        "print(\"✅ Fused feature files saved.\")"
      ],
      "metadata": {
        "colab": {
          "base_uri": "https://localhost:8080/"
        },
        "id": "2N1wOtD_PHX1",
        "outputId": "488a177c-c410-46b6-e4e9-1f1897cd3f1e"
      },
      "execution_count": 41,
      "outputs": [
        {
          "output_type": "stream",
          "name": "stdout",
          "text": [
            "✅ Train set: 166 matched records kept out of 166 merged\n",
            "✅ Test set: 71 matched records kept out of 71 merged\n",
            "✅ Fused feature files saved.\n"
          ]
        }
      ]
    },
    {
      "cell_type": "markdown",
      "source": [
        "#Final Fused Traininng"
      ],
      "metadata": {
        "id": "sqX34azwPelC"
      }
    },
    {
      "cell_type": "code",
      "source": [
        "import pandas as pd\n",
        "from sklearn.model_selection import train_test_split\n",
        "from sklearn.ensemble import RandomForestClassifier, VotingClassifier, StackingClassifier\n",
        "from sklearn.linear_model import LogisticRegression\n",
        "from sklearn.metrics import accuracy_score, classification_report\n",
        "import xgboost as xgb"
      ],
      "metadata": {
        "id": "68nAB9eNPM-D"
      },
      "execution_count": 42,
      "outputs": []
    },
    {
      "cell_type": "code",
      "source": [
        "# Load data\n",
        "train_data = pd.read_csv(\"l3-fused_features_train.csv\")\n",
        "test_data = pd.read_csv(\"l3-fused_features_test.csv\")\n",
        "\n",
        "# Split features and labels\n",
        "X = train_data.drop(columns=['label','file_name'])  # Replace 'target' with actual label column\n",
        "y = train_data['label']\n",
        "\n",
        "X_test = test_data.drop(columns=['label', 'file_name'])\n",
        "y_test = test_data['label']\n",
        "\n",
        "# Train/validation split for model selection\n",
        "X_train, X_val, y_train, y_val = train_test_split(X, y, test_size=0.2, random_state=42)\n",
        "\n",
        "# Define base models\n",
        "rf_model = RandomForestClassifier(n_estimators=200, max_depth=30, random_state=42)\n",
        "xgb_model = xgb.XGBClassifier(n_estimators=200, learning_rate=0.1, max_depth=5, random_state=42)\n",
        "lr_model = LogisticRegression(max_iter=1000)"
      ],
      "metadata": {
        "id": "nYt1H3gkPgRI"
      },
      "execution_count": 43,
      "outputs": []
    },
    {
      "cell_type": "code",
      "source": [
        "# Option 1: VotingClassifier\n",
        "voting_model = VotingClassifier(\n",
        "    estimators=[('rf', rf_model), ('xgb', xgb_model), ('lr', lr_model)],\n",
        "    voting='soft'\n",
        ")"
      ],
      "metadata": {
        "id": "MQsKcVw1PjxU"
      },
      "execution_count": 44,
      "outputs": []
    },
    {
      "cell_type": "code",
      "source": [
        "print(\"Training VotingClassifier...\")\n",
        "voting_model.fit(X_train, y_train)"
      ],
      "metadata": {
        "colab": {
          "base_uri": "https://localhost:8080/",
          "height": 155
        },
        "id": "a-pWJ7-bPmdZ",
        "outputId": "eebefffc-ef84-4e23-a3ce-f9c56415f6cf"
      },
      "execution_count": 45,
      "outputs": [
        {
          "output_type": "stream",
          "name": "stdout",
          "text": [
            "Training VotingClassifier...\n"
          ]
        },
        {
          "output_type": "execute_result",
          "data": {
            "text/plain": [
              "VotingClassifier(estimators=[('rf',\n",
              "                              RandomForestClassifier(max_depth=30,\n",
              "                                                     n_estimators=200,\n",
              "                                                     random_state=42)),\n",
              "                             ('xgb',\n",
              "                              XGBClassifier(base_score=None, booster=None,\n",
              "                                            callbacks=None,\n",
              "                                            colsample_bylevel=None,\n",
              "                                            colsample_bynode=None,\n",
              "                                            colsample_bytree=None, device=None,\n",
              "                                            early_stopping_rounds=None,\n",
              "                                            enable_categorical=False,\n",
              "                                            eval_metric=None,\n",
              "                                            feature_types=None, gamma=None,\n",
              "                                            g...\n",
              "                                            interaction_constraints=None,\n",
              "                                            learning_rate=0.1, max_bin=None,\n",
              "                                            max_cat_threshold=None,\n",
              "                                            max_cat_to_onehot=None,\n",
              "                                            max_delta_step=None, max_depth=5,\n",
              "                                            max_leaves=None,\n",
              "                                            min_child_weight=None, missing=nan,\n",
              "                                            monotone_constraints=None,\n",
              "                                            multi_strategy=None,\n",
              "                                            n_estimators=200, n_jobs=None,\n",
              "                                            num_parallel_tree=None,\n",
              "                                            random_state=42, ...)),\n",
              "                             ('lr', LogisticRegression(max_iter=1000))],\n",
              "                 voting='soft')"
            ],
            "text/html": [
              "<style>#sk-container-id-1 {\n",
              "  /* Definition of color scheme common for light and dark mode */\n",
              "  --sklearn-color-text: #000;\n",
              "  --sklearn-color-text-muted: #666;\n",
              "  --sklearn-color-line: gray;\n",
              "  /* Definition of color scheme for unfitted estimators */\n",
              "  --sklearn-color-unfitted-level-0: #fff5e6;\n",
              "  --sklearn-color-unfitted-level-1: #f6e4d2;\n",
              "  --sklearn-color-unfitted-level-2: #ffe0b3;\n",
              "  --sklearn-color-unfitted-level-3: chocolate;\n",
              "  /* Definition of color scheme for fitted estimators */\n",
              "  --sklearn-color-fitted-level-0: #f0f8ff;\n",
              "  --sklearn-color-fitted-level-1: #d4ebff;\n",
              "  --sklearn-color-fitted-level-2: #b3dbfd;\n",
              "  --sklearn-color-fitted-level-3: cornflowerblue;\n",
              "\n",
              "  /* Specific color for light theme */\n",
              "  --sklearn-color-text-on-default-background: var(--sg-text-color, var(--theme-code-foreground, var(--jp-content-font-color1, black)));\n",
              "  --sklearn-color-background: var(--sg-background-color, var(--theme-background, var(--jp-layout-color0, white)));\n",
              "  --sklearn-color-border-box: var(--sg-text-color, var(--theme-code-foreground, var(--jp-content-font-color1, black)));\n",
              "  --sklearn-color-icon: #696969;\n",
              "\n",
              "  @media (prefers-color-scheme: dark) {\n",
              "    /* Redefinition of color scheme for dark theme */\n",
              "    --sklearn-color-text-on-default-background: var(--sg-text-color, var(--theme-code-foreground, var(--jp-content-font-color1, white)));\n",
              "    --sklearn-color-background: var(--sg-background-color, var(--theme-background, var(--jp-layout-color0, #111)));\n",
              "    --sklearn-color-border-box: var(--sg-text-color, var(--theme-code-foreground, var(--jp-content-font-color1, white)));\n",
              "    --sklearn-color-icon: #878787;\n",
              "  }\n",
              "}\n",
              "\n",
              "#sk-container-id-1 {\n",
              "  color: var(--sklearn-color-text);\n",
              "}\n",
              "\n",
              "#sk-container-id-1 pre {\n",
              "  padding: 0;\n",
              "}\n",
              "\n",
              "#sk-container-id-1 input.sk-hidden--visually {\n",
              "  border: 0;\n",
              "  clip: rect(1px 1px 1px 1px);\n",
              "  clip: rect(1px, 1px, 1px, 1px);\n",
              "  height: 1px;\n",
              "  margin: -1px;\n",
              "  overflow: hidden;\n",
              "  padding: 0;\n",
              "  position: absolute;\n",
              "  width: 1px;\n",
              "}\n",
              "\n",
              "#sk-container-id-1 div.sk-dashed-wrapped {\n",
              "  border: 1px dashed var(--sklearn-color-line);\n",
              "  margin: 0 0.4em 0.5em 0.4em;\n",
              "  box-sizing: border-box;\n",
              "  padding-bottom: 0.4em;\n",
              "  background-color: var(--sklearn-color-background);\n",
              "}\n",
              "\n",
              "#sk-container-id-1 div.sk-container {\n",
              "  /* jupyter's `normalize.less` sets `[hidden] { display: none; }`\n",
              "     but bootstrap.min.css set `[hidden] { display: none !important; }`\n",
              "     so we also need the `!important` here to be able to override the\n",
              "     default hidden behavior on the sphinx rendered scikit-learn.org.\n",
              "     See: https://github.com/scikit-learn/scikit-learn/issues/21755 */\n",
              "  display: inline-block !important;\n",
              "  position: relative;\n",
              "}\n",
              "\n",
              "#sk-container-id-1 div.sk-text-repr-fallback {\n",
              "  display: none;\n",
              "}\n",
              "\n",
              "div.sk-parallel-item,\n",
              "div.sk-serial,\n",
              "div.sk-item {\n",
              "  /* draw centered vertical line to link estimators */\n",
              "  background-image: linear-gradient(var(--sklearn-color-text-on-default-background), var(--sklearn-color-text-on-default-background));\n",
              "  background-size: 2px 100%;\n",
              "  background-repeat: no-repeat;\n",
              "  background-position: center center;\n",
              "}\n",
              "\n",
              "/* Parallel-specific style estimator block */\n",
              "\n",
              "#sk-container-id-1 div.sk-parallel-item::after {\n",
              "  content: \"\";\n",
              "  width: 100%;\n",
              "  border-bottom: 2px solid var(--sklearn-color-text-on-default-background);\n",
              "  flex-grow: 1;\n",
              "}\n",
              "\n",
              "#sk-container-id-1 div.sk-parallel {\n",
              "  display: flex;\n",
              "  align-items: stretch;\n",
              "  justify-content: center;\n",
              "  background-color: var(--sklearn-color-background);\n",
              "  position: relative;\n",
              "}\n",
              "\n",
              "#sk-container-id-1 div.sk-parallel-item {\n",
              "  display: flex;\n",
              "  flex-direction: column;\n",
              "}\n",
              "\n",
              "#sk-container-id-1 div.sk-parallel-item:first-child::after {\n",
              "  align-self: flex-end;\n",
              "  width: 50%;\n",
              "}\n",
              "\n",
              "#sk-container-id-1 div.sk-parallel-item:last-child::after {\n",
              "  align-self: flex-start;\n",
              "  width: 50%;\n",
              "}\n",
              "\n",
              "#sk-container-id-1 div.sk-parallel-item:only-child::after {\n",
              "  width: 0;\n",
              "}\n",
              "\n",
              "/* Serial-specific style estimator block */\n",
              "\n",
              "#sk-container-id-1 div.sk-serial {\n",
              "  display: flex;\n",
              "  flex-direction: column;\n",
              "  align-items: center;\n",
              "  background-color: var(--sklearn-color-background);\n",
              "  padding-right: 1em;\n",
              "  padding-left: 1em;\n",
              "}\n",
              "\n",
              "\n",
              "/* Toggleable style: style used for estimator/Pipeline/ColumnTransformer box that is\n",
              "clickable and can be expanded/collapsed.\n",
              "- Pipeline and ColumnTransformer use this feature and define the default style\n",
              "- Estimators will overwrite some part of the style using the `sk-estimator` class\n",
              "*/\n",
              "\n",
              "/* Pipeline and ColumnTransformer style (default) */\n",
              "\n",
              "#sk-container-id-1 div.sk-toggleable {\n",
              "  /* Default theme specific background. It is overwritten whether we have a\n",
              "  specific estimator or a Pipeline/ColumnTransformer */\n",
              "  background-color: var(--sklearn-color-background);\n",
              "}\n",
              "\n",
              "/* Toggleable label */\n",
              "#sk-container-id-1 label.sk-toggleable__label {\n",
              "  cursor: pointer;\n",
              "  display: flex;\n",
              "  width: 100%;\n",
              "  margin-bottom: 0;\n",
              "  padding: 0.5em;\n",
              "  box-sizing: border-box;\n",
              "  text-align: center;\n",
              "  align-items: start;\n",
              "  justify-content: space-between;\n",
              "  gap: 0.5em;\n",
              "}\n",
              "\n",
              "#sk-container-id-1 label.sk-toggleable__label .caption {\n",
              "  font-size: 0.6rem;\n",
              "  font-weight: lighter;\n",
              "  color: var(--sklearn-color-text-muted);\n",
              "}\n",
              "\n",
              "#sk-container-id-1 label.sk-toggleable__label-arrow:before {\n",
              "  /* Arrow on the left of the label */\n",
              "  content: \"▸\";\n",
              "  float: left;\n",
              "  margin-right: 0.25em;\n",
              "  color: var(--sklearn-color-icon);\n",
              "}\n",
              "\n",
              "#sk-container-id-1 label.sk-toggleable__label-arrow:hover:before {\n",
              "  color: var(--sklearn-color-text);\n",
              "}\n",
              "\n",
              "/* Toggleable content - dropdown */\n",
              "\n",
              "#sk-container-id-1 div.sk-toggleable__content {\n",
              "  max-height: 0;\n",
              "  max-width: 0;\n",
              "  overflow: hidden;\n",
              "  text-align: left;\n",
              "  /* unfitted */\n",
              "  background-color: var(--sklearn-color-unfitted-level-0);\n",
              "}\n",
              "\n",
              "#sk-container-id-1 div.sk-toggleable__content.fitted {\n",
              "  /* fitted */\n",
              "  background-color: var(--sklearn-color-fitted-level-0);\n",
              "}\n",
              "\n",
              "#sk-container-id-1 div.sk-toggleable__content pre {\n",
              "  margin: 0.2em;\n",
              "  border-radius: 0.25em;\n",
              "  color: var(--sklearn-color-text);\n",
              "  /* unfitted */\n",
              "  background-color: var(--sklearn-color-unfitted-level-0);\n",
              "}\n",
              "\n",
              "#sk-container-id-1 div.sk-toggleable__content.fitted pre {\n",
              "  /* unfitted */\n",
              "  background-color: var(--sklearn-color-fitted-level-0);\n",
              "}\n",
              "\n",
              "#sk-container-id-1 input.sk-toggleable__control:checked~div.sk-toggleable__content {\n",
              "  /* Expand drop-down */\n",
              "  max-height: 200px;\n",
              "  max-width: 100%;\n",
              "  overflow: auto;\n",
              "}\n",
              "\n",
              "#sk-container-id-1 input.sk-toggleable__control:checked~label.sk-toggleable__label-arrow:before {\n",
              "  content: \"▾\";\n",
              "}\n",
              "\n",
              "/* Pipeline/ColumnTransformer-specific style */\n",
              "\n",
              "#sk-container-id-1 div.sk-label input.sk-toggleable__control:checked~label.sk-toggleable__label {\n",
              "  color: var(--sklearn-color-text);\n",
              "  background-color: var(--sklearn-color-unfitted-level-2);\n",
              "}\n",
              "\n",
              "#sk-container-id-1 div.sk-label.fitted input.sk-toggleable__control:checked~label.sk-toggleable__label {\n",
              "  background-color: var(--sklearn-color-fitted-level-2);\n",
              "}\n",
              "\n",
              "/* Estimator-specific style */\n",
              "\n",
              "/* Colorize estimator box */\n",
              "#sk-container-id-1 div.sk-estimator input.sk-toggleable__control:checked~label.sk-toggleable__label {\n",
              "  /* unfitted */\n",
              "  background-color: var(--sklearn-color-unfitted-level-2);\n",
              "}\n",
              "\n",
              "#sk-container-id-1 div.sk-estimator.fitted input.sk-toggleable__control:checked~label.sk-toggleable__label {\n",
              "  /* fitted */\n",
              "  background-color: var(--sklearn-color-fitted-level-2);\n",
              "}\n",
              "\n",
              "#sk-container-id-1 div.sk-label label.sk-toggleable__label,\n",
              "#sk-container-id-1 div.sk-label label {\n",
              "  /* The background is the default theme color */\n",
              "  color: var(--sklearn-color-text-on-default-background);\n",
              "}\n",
              "\n",
              "/* On hover, darken the color of the background */\n",
              "#sk-container-id-1 div.sk-label:hover label.sk-toggleable__label {\n",
              "  color: var(--sklearn-color-text);\n",
              "  background-color: var(--sklearn-color-unfitted-level-2);\n",
              "}\n",
              "\n",
              "/* Label box, darken color on hover, fitted */\n",
              "#sk-container-id-1 div.sk-label.fitted:hover label.sk-toggleable__label.fitted {\n",
              "  color: var(--sklearn-color-text);\n",
              "  background-color: var(--sklearn-color-fitted-level-2);\n",
              "}\n",
              "\n",
              "/* Estimator label */\n",
              "\n",
              "#sk-container-id-1 div.sk-label label {\n",
              "  font-family: monospace;\n",
              "  font-weight: bold;\n",
              "  display: inline-block;\n",
              "  line-height: 1.2em;\n",
              "}\n",
              "\n",
              "#sk-container-id-1 div.sk-label-container {\n",
              "  text-align: center;\n",
              "}\n",
              "\n",
              "/* Estimator-specific */\n",
              "#sk-container-id-1 div.sk-estimator {\n",
              "  font-family: monospace;\n",
              "  border: 1px dotted var(--sklearn-color-border-box);\n",
              "  border-radius: 0.25em;\n",
              "  box-sizing: border-box;\n",
              "  margin-bottom: 0.5em;\n",
              "  /* unfitted */\n",
              "  background-color: var(--sklearn-color-unfitted-level-0);\n",
              "}\n",
              "\n",
              "#sk-container-id-1 div.sk-estimator.fitted {\n",
              "  /* fitted */\n",
              "  background-color: var(--sklearn-color-fitted-level-0);\n",
              "}\n",
              "\n",
              "/* on hover */\n",
              "#sk-container-id-1 div.sk-estimator:hover {\n",
              "  /* unfitted */\n",
              "  background-color: var(--sklearn-color-unfitted-level-2);\n",
              "}\n",
              "\n",
              "#sk-container-id-1 div.sk-estimator.fitted:hover {\n",
              "  /* fitted */\n",
              "  background-color: var(--sklearn-color-fitted-level-2);\n",
              "}\n",
              "\n",
              "/* Specification for estimator info (e.g. \"i\" and \"?\") */\n",
              "\n",
              "/* Common style for \"i\" and \"?\" */\n",
              "\n",
              ".sk-estimator-doc-link,\n",
              "a:link.sk-estimator-doc-link,\n",
              "a:visited.sk-estimator-doc-link {\n",
              "  float: right;\n",
              "  font-size: smaller;\n",
              "  line-height: 1em;\n",
              "  font-family: monospace;\n",
              "  background-color: var(--sklearn-color-background);\n",
              "  border-radius: 1em;\n",
              "  height: 1em;\n",
              "  width: 1em;\n",
              "  text-decoration: none !important;\n",
              "  margin-left: 0.5em;\n",
              "  text-align: center;\n",
              "  /* unfitted */\n",
              "  border: var(--sklearn-color-unfitted-level-1) 1pt solid;\n",
              "  color: var(--sklearn-color-unfitted-level-1);\n",
              "}\n",
              "\n",
              ".sk-estimator-doc-link.fitted,\n",
              "a:link.sk-estimator-doc-link.fitted,\n",
              "a:visited.sk-estimator-doc-link.fitted {\n",
              "  /* fitted */\n",
              "  border: var(--sklearn-color-fitted-level-1) 1pt solid;\n",
              "  color: var(--sklearn-color-fitted-level-1);\n",
              "}\n",
              "\n",
              "/* On hover */\n",
              "div.sk-estimator:hover .sk-estimator-doc-link:hover,\n",
              ".sk-estimator-doc-link:hover,\n",
              "div.sk-label-container:hover .sk-estimator-doc-link:hover,\n",
              ".sk-estimator-doc-link:hover {\n",
              "  /* unfitted */\n",
              "  background-color: var(--sklearn-color-unfitted-level-3);\n",
              "  color: var(--sklearn-color-background);\n",
              "  text-decoration: none;\n",
              "}\n",
              "\n",
              "div.sk-estimator.fitted:hover .sk-estimator-doc-link.fitted:hover,\n",
              ".sk-estimator-doc-link.fitted:hover,\n",
              "div.sk-label-container:hover .sk-estimator-doc-link.fitted:hover,\n",
              ".sk-estimator-doc-link.fitted:hover {\n",
              "  /* fitted */\n",
              "  background-color: var(--sklearn-color-fitted-level-3);\n",
              "  color: var(--sklearn-color-background);\n",
              "  text-decoration: none;\n",
              "}\n",
              "\n",
              "/* Span, style for the box shown on hovering the info icon */\n",
              ".sk-estimator-doc-link span {\n",
              "  display: none;\n",
              "  z-index: 9999;\n",
              "  position: relative;\n",
              "  font-weight: normal;\n",
              "  right: .2ex;\n",
              "  padding: .5ex;\n",
              "  margin: .5ex;\n",
              "  width: min-content;\n",
              "  min-width: 20ex;\n",
              "  max-width: 50ex;\n",
              "  color: var(--sklearn-color-text);\n",
              "  box-shadow: 2pt 2pt 4pt #999;\n",
              "  /* unfitted */\n",
              "  background: var(--sklearn-color-unfitted-level-0);\n",
              "  border: .5pt solid var(--sklearn-color-unfitted-level-3);\n",
              "}\n",
              "\n",
              ".sk-estimator-doc-link.fitted span {\n",
              "  /* fitted */\n",
              "  background: var(--sklearn-color-fitted-level-0);\n",
              "  border: var(--sklearn-color-fitted-level-3);\n",
              "}\n",
              "\n",
              ".sk-estimator-doc-link:hover span {\n",
              "  display: block;\n",
              "}\n",
              "\n",
              "/* \"?\"-specific style due to the `<a>` HTML tag */\n",
              "\n",
              "#sk-container-id-1 a.estimator_doc_link {\n",
              "  float: right;\n",
              "  font-size: 1rem;\n",
              "  line-height: 1em;\n",
              "  font-family: monospace;\n",
              "  background-color: var(--sklearn-color-background);\n",
              "  border-radius: 1rem;\n",
              "  height: 1rem;\n",
              "  width: 1rem;\n",
              "  text-decoration: none;\n",
              "  /* unfitted */\n",
              "  color: var(--sklearn-color-unfitted-level-1);\n",
              "  border: var(--sklearn-color-unfitted-level-1) 1pt solid;\n",
              "}\n",
              "\n",
              "#sk-container-id-1 a.estimator_doc_link.fitted {\n",
              "  /* fitted */\n",
              "  border: var(--sklearn-color-fitted-level-1) 1pt solid;\n",
              "  color: var(--sklearn-color-fitted-level-1);\n",
              "}\n",
              "\n",
              "/* On hover */\n",
              "#sk-container-id-1 a.estimator_doc_link:hover {\n",
              "  /* unfitted */\n",
              "  background-color: var(--sklearn-color-unfitted-level-3);\n",
              "  color: var(--sklearn-color-background);\n",
              "  text-decoration: none;\n",
              "}\n",
              "\n",
              "#sk-container-id-1 a.estimator_doc_link.fitted:hover {\n",
              "  /* fitted */\n",
              "  background-color: var(--sklearn-color-fitted-level-3);\n",
              "}\n",
              "</style><div id=\"sk-container-id-1\" class=\"sk-top-container\"><div class=\"sk-text-repr-fallback\"><pre>VotingClassifier(estimators=[(&#x27;rf&#x27;,\n",
              "                              RandomForestClassifier(max_depth=30,\n",
              "                                                     n_estimators=200,\n",
              "                                                     random_state=42)),\n",
              "                             (&#x27;xgb&#x27;,\n",
              "                              XGBClassifier(base_score=None, booster=None,\n",
              "                                            callbacks=None,\n",
              "                                            colsample_bylevel=None,\n",
              "                                            colsample_bynode=None,\n",
              "                                            colsample_bytree=None, device=None,\n",
              "                                            early_stopping_rounds=None,\n",
              "                                            enable_categorical=False,\n",
              "                                            eval_metric=None,\n",
              "                                            feature_types=None, gamma=None,\n",
              "                                            g...\n",
              "                                            interaction_constraints=None,\n",
              "                                            learning_rate=0.1, max_bin=None,\n",
              "                                            max_cat_threshold=None,\n",
              "                                            max_cat_to_onehot=None,\n",
              "                                            max_delta_step=None, max_depth=5,\n",
              "                                            max_leaves=None,\n",
              "                                            min_child_weight=None, missing=nan,\n",
              "                                            monotone_constraints=None,\n",
              "                                            multi_strategy=None,\n",
              "                                            n_estimators=200, n_jobs=None,\n",
              "                                            num_parallel_tree=None,\n",
              "                                            random_state=42, ...)),\n",
              "                             (&#x27;lr&#x27;, LogisticRegression(max_iter=1000))],\n",
              "                 voting=&#x27;soft&#x27;)</pre><b>In a Jupyter environment, please rerun this cell to show the HTML representation or trust the notebook. <br />On GitHub, the HTML representation is unable to render, please try loading this page with nbviewer.org.</b></div><div class=\"sk-container\" hidden><div class=\"sk-item sk-dashed-wrapped\"><div class=\"sk-label-container\"><div class=\"sk-label fitted sk-toggleable\"><input class=\"sk-toggleable__control sk-hidden--visually\" id=\"sk-estimator-id-1\" type=\"checkbox\" ><label for=\"sk-estimator-id-1\" class=\"sk-toggleable__label fitted sk-toggleable__label-arrow\"><div><div>VotingClassifier</div></div><div><a class=\"sk-estimator-doc-link fitted\" rel=\"noreferrer\" target=\"_blank\" href=\"https://scikit-learn.org/1.6/modules/generated/sklearn.ensemble.VotingClassifier.html\">?<span>Documentation for VotingClassifier</span></a><span class=\"sk-estimator-doc-link fitted\">i<span>Fitted</span></span></div></label><div class=\"sk-toggleable__content fitted\"><pre>VotingClassifier(estimators=[(&#x27;rf&#x27;,\n",
              "                              RandomForestClassifier(max_depth=30,\n",
              "                                                     n_estimators=200,\n",
              "                                                     random_state=42)),\n",
              "                             (&#x27;xgb&#x27;,\n",
              "                              XGBClassifier(base_score=None, booster=None,\n",
              "                                            callbacks=None,\n",
              "                                            colsample_bylevel=None,\n",
              "                                            colsample_bynode=None,\n",
              "                                            colsample_bytree=None, device=None,\n",
              "                                            early_stopping_rounds=None,\n",
              "                                            enable_categorical=False,\n",
              "                                            eval_metric=None,\n",
              "                                            feature_types=None, gamma=None,\n",
              "                                            g...\n",
              "                                            interaction_constraints=None,\n",
              "                                            learning_rate=0.1, max_bin=None,\n",
              "                                            max_cat_threshold=None,\n",
              "                                            max_cat_to_onehot=None,\n",
              "                                            max_delta_step=None, max_depth=5,\n",
              "                                            max_leaves=None,\n",
              "                                            min_child_weight=None, missing=nan,\n",
              "                                            monotone_constraints=None,\n",
              "                                            multi_strategy=None,\n",
              "                                            n_estimators=200, n_jobs=None,\n",
              "                                            num_parallel_tree=None,\n",
              "                                            random_state=42, ...)),\n",
              "                             (&#x27;lr&#x27;, LogisticRegression(max_iter=1000))],\n",
              "                 voting=&#x27;soft&#x27;)</pre></div> </div></div><div class=\"sk-parallel\"><div class=\"sk-parallel-item\"><div class=\"sk-item\"><div class=\"sk-label-container\"><div class=\"sk-label fitted sk-toggleable\"><label>rf</label></div></div><div class=\"sk-serial\"><div class=\"sk-item\"><div class=\"sk-estimator fitted sk-toggleable\"><input class=\"sk-toggleable__control sk-hidden--visually\" id=\"sk-estimator-id-2\" type=\"checkbox\" ><label for=\"sk-estimator-id-2\" class=\"sk-toggleable__label fitted sk-toggleable__label-arrow\"><div><div>RandomForestClassifier</div></div><div><a class=\"sk-estimator-doc-link fitted\" rel=\"noreferrer\" target=\"_blank\" href=\"https://scikit-learn.org/1.6/modules/generated/sklearn.ensemble.RandomForestClassifier.html\">?<span>Documentation for RandomForestClassifier</span></a></div></label><div class=\"sk-toggleable__content fitted\"><pre>RandomForestClassifier(max_depth=30, n_estimators=200, random_state=42)</pre></div> </div></div></div></div></div><div class=\"sk-parallel-item\"><div class=\"sk-item\"><div class=\"sk-label-container\"><div class=\"sk-label fitted sk-toggleable\"><label>xgb</label></div></div><div class=\"sk-serial\"><div class=\"sk-item\"><div class=\"sk-estimator fitted sk-toggleable\"><input class=\"sk-toggleable__control sk-hidden--visually\" id=\"sk-estimator-id-3\" type=\"checkbox\" ><label for=\"sk-estimator-id-3\" class=\"sk-toggleable__label fitted sk-toggleable__label-arrow\"><div><div>XGBClassifier</div></div></label><div class=\"sk-toggleable__content fitted\"><pre>XGBClassifier(base_score=None, booster=None, callbacks=None,\n",
              "              colsample_bylevel=None, colsample_bynode=None,\n",
              "              colsample_bytree=None, device=None, early_stopping_rounds=None,\n",
              "              enable_categorical=False, eval_metric=None, feature_types=None,\n",
              "              gamma=None, grow_policy=None, importance_type=None,\n",
              "              interaction_constraints=None, learning_rate=0.1, max_bin=None,\n",
              "              max_cat_threshold=None, max_cat_to_onehot=None,\n",
              "              max_delta_step=None, max_depth=5, max_leaves=None,\n",
              "              min_child_weight=None, missing=nan, monotone_constraints=None,\n",
              "              multi_strategy=None, n_estimators=200, n_jobs=None,\n",
              "              num_parallel_tree=None, random_state=42, ...)</pre></div> </div></div></div></div></div><div class=\"sk-parallel-item\"><div class=\"sk-item\"><div class=\"sk-label-container\"><div class=\"sk-label fitted sk-toggleable\"><label>lr</label></div></div><div class=\"sk-serial\"><div class=\"sk-item\"><div class=\"sk-estimator fitted sk-toggleable\"><input class=\"sk-toggleable__control sk-hidden--visually\" id=\"sk-estimator-id-4\" type=\"checkbox\" ><label for=\"sk-estimator-id-4\" class=\"sk-toggleable__label fitted sk-toggleable__label-arrow\"><div><div>LogisticRegression</div></div><div><a class=\"sk-estimator-doc-link fitted\" rel=\"noreferrer\" target=\"_blank\" href=\"https://scikit-learn.org/1.6/modules/generated/sklearn.linear_model.LogisticRegression.html\">?<span>Documentation for LogisticRegression</span></a></div></label><div class=\"sk-toggleable__content fitted\"><pre>LogisticRegression(max_iter=1000)</pre></div> </div></div></div></div></div></div></div></div></div>"
            ]
          },
          "metadata": {},
          "execution_count": 45
        }
      ]
    },
    {
      "cell_type": "code",
      "source": [
        "# === Validate ===\n",
        "print(\"Validation - Voting:\")\n",
        "val_preds_vote = voting_model.predict(X_val)\n",
        "print(\"Accuracy (Voting):\", accuracy_score(y_val, val_preds_vote))\n",
        "print(classification_report(y_val, val_preds_vote))\n",
        "\n",
        "'''print(\"Validation - Stacking:\")\n",
        "val_preds_stack = stack_model.predict(X_val)\n",
        "print(\"Accuracy (Stacking):\", accuracy_score(y_val, val_preds_stack))\n",
        "print(classification_report(y_val, val_preds_stack))'''"
      ],
      "metadata": {
        "colab": {
          "base_uri": "https://localhost:8080/",
          "height": 226
        },
        "id": "G23rZFDUPqk6",
        "outputId": "2ca2b54a-5dca-44f6-9577-44dbde58e630"
      },
      "execution_count": 46,
      "outputs": [
        {
          "output_type": "stream",
          "name": "stdout",
          "text": [
            "Validation - Voting:\n",
            "Accuracy (Voting): 0.6764705882352942\n",
            "              precision    recall  f1-score   support\n",
            "\n",
            "           0       0.67      0.62      0.65        16\n",
            "           1       0.68      0.72      0.70        18\n",
            "\n",
            "    accuracy                           0.68        34\n",
            "   macro avg       0.68      0.67      0.67        34\n",
            "weighted avg       0.68      0.68      0.68        34\n",
            "\n"
          ]
        },
        {
          "output_type": "execute_result",
          "data": {
            "text/plain": [
              "'print(\"Validation - Stacking:\")\\nval_preds_stack = stack_model.predict(X_val)\\nprint(\"Accuracy (Stacking):\", accuracy_score(y_val, val_preds_stack))\\nprint(classification_report(y_val, val_preds_stack))'"
            ],
            "application/vnd.google.colaboratory.intrinsic+json": {
              "type": "string"
            }
          },
          "metadata": {},
          "execution_count": 46
        }
      ]
    },
    {
      "cell_type": "code",
      "source": [
        "# Choose the better performing model\n",
        "final_model = voting_model  # or stack_model based on validation performance\n",
        "\n",
        "test_preds = final_model.predict(X_test)\n",
        "print(\"Test Accuracy:\", accuracy_score(y_test, test_preds))\n",
        "print(classification_report(y_test, test_preds))"
      ],
      "metadata": {
        "colab": {
          "base_uri": "https://localhost:8080/"
        },
        "id": "5G-Cq1s9Pvmc",
        "outputId": "ddd0e232-9674-4140-f99f-8473cb34de4a"
      },
      "execution_count": 47,
      "outputs": [
        {
          "output_type": "stream",
          "name": "stdout",
          "text": [
            "Test Accuracy: 0.8309859154929577\n",
            "              precision    recall  f1-score   support\n",
            "\n",
            "           0       0.83      0.83      0.83        36\n",
            "           1       0.83      0.83      0.83        35\n",
            "\n",
            "    accuracy                           0.83        71\n",
            "   macro avg       0.83      0.83      0.83        71\n",
            "weighted avg       0.83      0.83      0.83        71\n",
            "\n"
          ]
        }
      ]
    },
    {
      "cell_type": "code",
      "source": [
        "import joblib\n",
        "\n",
        "# ✅ Set final model to your trained voting model\n",
        "final_model = voting_model\n",
        "\n",
        "# ✅ Save the model\n",
        "joblib.dump(final_model, \"l3-fused-voting.pkl\")\n",
        "print(\"✅ Final model saved as l3-fused-esemeble.pkl\")\n"
      ],
      "metadata": {
        "colab": {
          "base_uri": "https://localhost:8080/"
        },
        "id": "_rQAMm0NPy70",
        "outputId": "109685bc-f1fb-4bcd-89c0-a32493fd7e23"
      },
      "execution_count": 48,
      "outputs": [
        {
          "output_type": "stream",
          "name": "stdout",
          "text": [
            "✅ Final model saved as l3-fused-esemeble.pkl\n"
          ]
        }
      ]
    },
    {
      "cell_type": "markdown",
      "source": [
        "##Retraining with COnfusion matrix on saved final model"
      ],
      "metadata": {
        "id": "hdj6lSoBfGxc"
      }
    },
    {
      "cell_type": "code",
      "source": [
        "import pandas as pd\n",
        "import numpy as np\n",
        "import matplotlib.pyplot as plt\n",
        "import seaborn as sns\n",
        "import joblib\n",
        "\n",
        "from sklearn.metrics import (\n",
        "    confusion_matrix, classification_report, roc_curve, auc,\n",
        "    precision_recall_curve\n",
        ")\n",
        "\n",
        "# === Load test data and model ===\n",
        "test_data = pd.read_csv(\"l3-fused_features_test.csv\")\n",
        "X_test = test_data.drop(columns=[\"label\", 'file_name'])\n",
        "y_test = test_data[\"label\"]\n",
        "\n",
        "model = joblib.load(\"l3-fused-voting.pkl\")"
      ],
      "metadata": {
        "id": "H_MhcttqQE9O"
      },
      "execution_count": 49,
      "outputs": []
    },
    {
      "cell_type": "code",
      "source": [
        "# === Predict ===\n",
        "y_pred = model.predict(X_test)\n",
        "y_prob = model.predict_proba(X_test)[:, 1]  # for ROC/PR curves\n",
        "\n",
        "# === Confusion Matrix ===\n",
        "plt.figure(figsize=(6,5))\n",
        "cm = confusion_matrix(y_test, y_pred)\n",
        "sns.heatmap(cm, annot=True, fmt=\"d\", cmap=\"Blues\", xticklabels=[\"CN\", \"AD\"], yticklabels=[\"CN\", \"AD\"])\n",
        "plt.xlabel(\"Predicted\")\n",
        "plt.ylabel(\"Actual\")\n",
        "plt.title(\"Confusion Matrix\")\n",
        "plt.show()\n",
        "\n",
        "# === Classification Report ===\n",
        "print(\"\\nClassification Report:\\n\")\n",
        "print(classification_report(y_test, y_pred))"
      ],
      "metadata": {
        "colab": {
          "base_uri": "https://localhost:8080/",
          "height": 695
        },
        "id": "576SyANUQIk2",
        "outputId": "4787f16a-17e7-444c-dae0-31a4aa0bfb66"
      },
      "execution_count": 50,
      "outputs": [
        {
          "output_type": "display_data",
          "data": {
            "text/plain": [
              "<Figure size 600x500 with 2 Axes>"
            ],
            "image/png": "[encoded data removed]"
          },
          "metadata": {}
        },
        {
          "output_type": "stream",
          "name": "stdout",
          "text": [
            "\n",
            "Classification Report:\n",
            "\n",
            "              precision    recall  f1-score   support\n",
            "\n",
            "           0       0.83      0.83      0.83        36\n",
            "           1       0.83      0.83      0.83        35\n",
            "\n",
            "    accuracy                           0.83        71\n",
            "   macro avg       0.83      0.83      0.83        71\n",
            "weighted avg       0.83      0.83      0.83        71\n",
            "\n"
          ]
        }
      ]
    },
    {
      "cell_type": "code",
      "source": [
        "# === ROC Curve ===\n",
        "fpr, tpr, _ = roc_curve(y_test, y_prob)\n",
        "roc_auc = auc(fpr, tpr)\n",
        "\n",
        "plt.figure(figsize=(6,5))\n",
        "plt.plot(fpr, tpr, color='darkorange', lw=2, label=f\"AUC = {roc_auc:.2f}\")\n",
        "plt.plot([0, 1], [0, 1], color='navy', lw=2, linestyle='--')\n",
        "plt.xlim([-0.01, 1.01])\n",
        "plt.ylim([-0.01, 1.01])\n",
        "plt.xlabel(\"False Positive Rate\")\n",
        "plt.ylabel(\"True Positive Rate\")\n",
        "plt.title(\"ROC Curve\")\n",
        "plt.legend(loc=\"lower right\")\n",
        "plt.grid()\n",
        "plt.show()"
      ],
      "metadata": {
        "colab": {
          "base_uri": "https://localhost:8080/",
          "height": 487
        },
        "id": "TGwAB0ISQMXc",
        "outputId": "06d9d021-acdf-4ea0-b422-a8443d8b699d"
      },
      "execution_count": 51,
      "outputs": [
        {
          "output_type": "display_data",
          "data": {
            "text/plain": [
              "<Figure size 600x500 with 1 Axes>"
            ],
            "image/png": "[encoded data removed]"
          },
          "metadata": {}
        }
      ]
    },
    {
      "cell_type": "code",
      "source": [
        "# === Precision-Recall Curve ===\n",
        "precision, recall, _ = precision_recall_curve(y_test, y_prob)\n",
        "\n",
        "plt.figure(figsize=(6,5))\n",
        "plt.plot(recall, precision, color='blue', lw=2)\n",
        "plt.xlabel(\"Recall\")\n",
        "plt.ylabel(\"Precision\")\n",
        "plt.title(\"Precision-Recall Curve\")\n",
        "plt.grid()\n",
        "plt.show()"
      ],
      "metadata": {
        "colab": {
          "base_uri": "https://localhost:8080/",
          "height": 487
        },
        "id": "TDakLc5hQ_23",
        "outputId": "96fd0756-1033-46db-ee9c-f37c1989f7d6"
      },
      "execution_count": 52,
      "outputs": [
        {
          "output_type": "display_data",
          "data": {
            "text/plain": [
              "<Figure size 600x500 with 1 Axes>"
            ],
            "image/png": "[encoded data removed]"
          },
          "metadata": {}
        }
      ]
    },
    {
      "cell_type": "code",
      "source": [],
      "metadata": {
        "id": "6DrcuchwRCYd"
      },
      "execution_count": null,
      "outputs": []
    }
  ],
  "metadata": {
    "colab": {
      "provenance": []
    },
    "kernelspec": {
      "display_name": "Python 3",
      "name": "python3"
    },
    "language_info": {
      "name": "python"
    },
    "widgets": {
      "application/vnd.jupyter.widget-state+json": {
        "6e0c12124fa6408280d937630c45c5b0": {
          "model_module": "@jupyter-widgets/controls",
          "model_name": "HBoxModel",
          "model_module_version": "1.5.0",
          "state": {
            "_dom_classes": [],
            "_model_module": "@jupyter-widgets/controls",
            "_model_module_version": "1.5.0",
            "_model_name": "HBoxModel",
            "_view_count": null,
            "_view_module": "@jupyter-widgets/controls",
            "_view_module_version": "1.5.0",
            "_view_name": "HBoxView",
            "box_style": "",
            "children": [
              "IPY_MODEL_87c8d80a3d2a4a16937a4ede1430417e",
              "IPY_MODEL_fb9ee1dc86d6435798be00cdc04a0b4c",
              "IPY_MODEL_bcb2b29a696b4fd8b0414e037c2f9659"
            ],
            "layout": "IPY_MODEL_c6fe8cd59c75483eaf225dbbf4bda1e6"
          }
        },
        "87c8d80a3d2a4a16937a4ede1430417e": {
          "model_module": "@jupyter-widgets/controls",
          "model_name": "HTMLModel",
          "model_module_version": "1.5.0",
          "state": {
            "_dom_classes": [],
            "_model_module": "@jupyter-widgets/controls",
            "_model_module_version": "1.5.0",
            "_model_name": "HTMLModel",
            "_view_count": null,
            "_view_module": "@jupyter-widgets/controls",
            "_view_module_version": "1.5.0",
            "_view_name": "HTMLView",
            "description": "",
            "description_tooltip": null,
            "layout": "IPY_MODEL_e0d4972abb9b4ab4a2d2992056534d96",
            "placeholder": "​",
            "style": "IPY_MODEL_8a1c508747234288a9cbb5213ed2dade",
            "value": "tokenizer_config.json: 100%"
          }
        },
        "fb9ee1dc86d6435798be00cdc04a0b4c": {
          "model_module": "@jupyter-widgets/controls",
          "model_name": "FloatProgressModel",
          "model_module_version": "1.5.0",
          "state": {
            "_dom_classes": [],
            "_model_module": "@jupyter-widgets/controls",
            "_model_module_version": "1.5.0",
            "_model_name": "FloatProgressModel",
            "_view_count": null,
            "_view_module": "@jupyter-widgets/controls",
            "_view_module_version": "1.5.0",
            "_view_name": "ProgressView",
            "bar_style": "success",
            "description": "",
            "description_tooltip": null,
            "layout": "IPY_MODEL_317c26ee8847407892f22c0df81c1324",
            "max": 48,
            "min": 0,
            "orientation": "horizontal",
            "style": "IPY_MODEL_7274739df0e3407b8d96d7c18d1355e5",
            "value": 48
          }
        },
        "bcb2b29a696b4fd8b0414e037c2f9659": {
          "model_module": "@jupyter-widgets/controls",
          "model_name": "HTMLModel",
          "model_module_version": "1.5.0",
          "state": {
            "_dom_classes": [],
            "_model_module": "@jupyter-widgets/controls",
            "_model_module_version": "1.5.0",
            "_model_name": "HTMLModel",
            "_view_count": null,
            "_view_module": "@jupyter-widgets/controls",
            "_view_module_version": "1.5.0",
            "_view_name": "HTMLView",
            "description": "",
            "description_tooltip": null,
            "layout": "IPY_MODEL_8eac3156711e4ce4b6d40d5411a99241",
            "placeholder": "​",
            "style": "IPY_MODEL_85dd8dbdbf864d4e8751ae6a1e772af6",
            "value": " 48.0/48.0 [00:00&lt;00:00, 3.82kB/s]"
          }
        },
        "c6fe8cd59c75483eaf225dbbf4bda1e6": {
          "model_module": "@jupyter-widgets/base",
          "model_name": "LayoutModel",
          "model_module_version": "1.2.0",
          "state": {
            "_model_module": "@jupyter-widgets/base",
            "_model_module_version": "1.2.0",
            "_model_name": "LayoutModel",
            "_view_count": null,
            "_view_module": "@jupyter-widgets/base",
            "_view_module_version": "1.2.0",
            "_view_name": "LayoutView",
            "align_content": null,
            "align_items": null,
            "align_self": null,
            "border": null,
            "bottom": null,
            "display": null,
            "flex": null,
            "flex_flow": null,
            "grid_area": null,
            "grid_auto_columns": null,
            "grid_auto_flow": null,
            "grid_auto_rows": null,
            "grid_column": null,
            "grid_gap": null,
            "grid_row": null,
            "grid_template_areas": null,
            "grid_template_columns": null,
            "grid_template_rows": null,
            "height": null,
            "justify_content": null,
            "justify_items": null,
            "left": null,
            "margin": null,
            "max_height": null,
            "max_width": null,
            "min_height": null,
            "min_width": null,
            "object_fit": null,
            "object_position": null,
            "order": null,
            "overflow": null,
            "overflow_x": null,
            "overflow_y": null,
            "padding": null,
            "right": null,
            "top": null,
            "visibility": null,
            "width": null
          }
        },
        "e0d4972abb9b4ab4a2d2992056534d96": {
          "model_module": "@jupyter-widgets/base",
          "model_name": "LayoutModel",
          "model_module_version": "1.2.0",
          "state": {
            "_model_module": "@jupyter-widgets/base",
            "_model_module_version": "1.2.0",
            "_model_name": "LayoutModel",
            "_view_count": null,
            "_view_module": "@jupyter-widgets/base",
            "_view_module_version": "1.2.0",
            "_view_name": "LayoutView",
            "align_content": null,
            "align_items": null,
            "align_self": null,
            "border": null,
            "bottom": null,
            "display": null,
            "flex": null,
            "flex_flow": null,
            "grid_area": null,
            "grid_auto_columns": null,
            "grid_auto_flow": null,
            "grid_auto_rows": null,
            "grid_column": null,
            "grid_gap": null,
            "grid_row": null,
            "grid_template_areas": null,
            "grid_template_columns": null,
            "grid_template_rows": null,
            "height": null,
            "justify_content": null,
            "justify_items": null,
            "left": null,
            "margin": null,
            "max_height": null,
            "max_width": null,
            "min_height": null,
            "min_width": null,
            "object_fit": null,
            "object_position": null,
            "order": null,
            "overflow": null,
            "overflow_x": null,
            "overflow_y": null,
            "padding": null,
            "right": null,
            "top": null,
            "visibility": null,
            "width": null
          }
        },
        "8a1c508747234288a9cbb5213ed2dade": {
          "model_module": "@jupyter-widgets/controls",
          "model_name": "DescriptionStyleModel",
          "model_module_version": "1.5.0",
          "state": {
            "_model_module": "@jupyter-widgets/controls",
            "_model_module_version": "1.5.0",
            "_model_name": "DescriptionStyleModel",
            "_view_count": null,
            "_view_module": "@jupyter-widgets/base",
            "_view_module_version": "1.2.0",
            "_view_name": "StyleView",
            "description_width": ""
          }
        },
        "317c26ee8847407892f22c0df81c1324": {
          "model_module": "@jupyter-widgets/base",
          "model_name": "LayoutModel",
          "model_module_version": "1.2.0",
          "state": {
            "_model_module": "@jupyter-widgets/base",
            "_model_module_version": "1.2.0",
            "_model_name": "LayoutModel",
            "_view_count": null,
            "_view_module": "@jupyter-widgets/base",
            "_view_module_version": "1.2.0",
            "_view_name": "LayoutView",
            "align_content": null,
            "align_items": null,
            "align_self": null,
            "border": null,
            "bottom": null,
            "display": null,
            "flex": null,
            "flex_flow": null,
            "grid_area": null,
            "grid_auto_columns": null,
            "grid_auto_flow": null,
            "grid_auto_rows": null,
            "grid_column": null,
            "grid_gap": null,
            "grid_row": null,
            "grid_template_areas": null,
            "grid_template_columns": null,
            "grid_template_rows": null,
            "height": null,
            "justify_content": null,
            "justify_items": null,
            "left": null,
            "margin": null,
            "max_height": null,
            "max_width": null,
            "min_height": null,
            "min_width": null,
            "object_fit": null,
            "object_position": null,
            "order": null,
            "overflow": null,
            "overflow_x": null,
            "overflow_y": null,
            "padding": null,
            "right": null,
            "top": null,
            "visibility": null,
            "width": null
          }
        },
        "7274739df0e3407b8d96d7c18d1355e5": {
          "model_module": "@jupyter-widgets/controls",
          "model_name": "ProgressStyleModel",
          "model_module_version": "1.5.0",
          "state": {
            "_model_module": "@jupyter-widgets/controls",
            "_model_module_version": "1.5.0",
            "_model_name": "ProgressStyleModel",
            "_view_count": null,
            "_view_module": "@jupyter-widgets/base",
            "_view_module_version": "1.2.0",
            "_view_name": "StyleView",
            "bar_color": null,
            "description_width": ""
          }
        },
        "8eac3156711e4ce4b6d40d5411a99241": {
          "model_module": "@jupyter-widgets/base",
          "model_name": "LayoutModel",
          "model_module_version": "1.2.0",
          "state": {
            "_model_module": "@jupyter-widgets/base",
            "_model_module_version": "1.2.0",
            "_model_name": "LayoutModel",
            "_view_count": null,
            "_view_module": "@jupyter-widgets/base",
            "_view_module_version": "1.2.0",
            "_view_name": "LayoutView",
            "align_content": null,
            "align_items": null,
            "align_self": null,
            "border": null,
            "bottom": null,
            "display": null,
            "flex": null,
            "flex_flow": null,
            "grid_area": null,
            "grid_auto_columns": null,
            "grid_auto_flow": null,
            "grid_auto_rows": null,
            "grid_column": null,
            "grid_gap": null,
            "grid_row": null,
            "grid_template_areas": null,
            "grid_template_columns": null,
            "grid_template_rows": null,
            "height": null,
            "justify_content": null,
            "justify_items": null,
            "left": null,
            "margin": null,
            "max_height": null,
            "max_width": null,
            "min_height": null,
            "min_width": null,
            "object_fit": null,
            "object_position": null,
            "order": null,
            "overflow": null,
            "overflow_x": null,
            "overflow_y": null,
            "padding": null,
            "right": null,
            "top": null,
            "visibility": null,
            "width": null
          }
        },
        "85dd8dbdbf864d4e8751ae6a1e772af6": {
          "model_module": "@jupyter-widgets/controls",
          "model_name": "DescriptionStyleModel",
          "model_module_version": "1.5.0",
          "state": {
            "_model_module": "@jupyter-widgets/controls",
            "_model_module_version": "1.5.0",
            "_model_name": "DescriptionStyleModel",
            "_view_count": null,
            "_view_module": "@jupyter-widgets/base",
            "_view_module_version": "1.2.0",
            "_view_name": "StyleView",
            "description_width": ""
          }
        },
        "e60ab87a745745d1b56a67c123776169": {
          "model_module": "@jupyter-widgets/controls",
          "model_name": "HBoxModel",
          "model_module_version": "1.5.0",
          "state": {
            "_dom_classes": [],
            "_model_module": "@jupyter-widgets/controls",
            "_model_module_version": "1.5.0",
            "_model_name": "HBoxModel",
            "_view_count": null,
            "_view_module": "@jupyter-widgets/controls",
            "_view_module_version": "1.5.0",
            "_view_name": "HBoxView",
            "box_style": "",
            "children": [
              "IPY_MODEL_6dc7e932cab4444cbf60aab9161f327c",
              "IPY_MODEL_e619b0ef62824d34b1624160829e754b",
              "IPY_MODEL_c424354416c74ae79f98896768913330"
            ],
            "layout": "IPY_MODEL_04826ebb34d347d5841e094e10507c23"
          }
        },
        "6dc7e932cab4444cbf60aab9161f327c": {
          "model_module": "@jupyter-widgets/controls",
          "model_name": "HTMLModel",
          "model_module_version": "1.5.0",
          "state": {
            "_dom_classes": [],
            "_model_module": "@jupyter-widgets/controls",
            "_model_module_version": "1.5.0",
            "_model_name": "HTMLModel",
            "_view_count": null,
            "_view_module": "@jupyter-widgets/controls",
            "_view_module_version": "1.5.0",
            "_view_name": "HTMLView",
            "description": "",
            "description_tooltip": null,
            "layout": "IPY_MODEL_006a2ac7a67a4e7d8332bc993f3091f1",
            "placeholder": "​",
            "style": "IPY_MODEL_c90b164b4381424b8407e1b7e4742a23",
            "value": "vocab.txt: 100%"
          }
        },
        "e619b0ef62824d34b1624160829e754b": {
          "model_module": "@jupyter-widgets/controls",
          "model_name": "FloatProgressModel",
          "model_module_version": "1.5.0",
          "state": {
            "_dom_classes": [],
            "_model_module": "@jupyter-widgets/controls",
            "_model_module_version": "1.5.0",
            "_model_name": "FloatProgressModel",
            "_view_count": null,
            "_view_module": "@jupyter-widgets/controls",
            "_view_module_version": "1.5.0",
            "_view_name": "ProgressView",
            "bar_style": "success",
            "description": "",
            "description_tooltip": null,
            "layout": "IPY_MODEL_ccd0f05a8a2446d9bd08e9003c82070d",
            "max": 231508,
            "min": 0,
            "orientation": "horizontal",
            "style": "IPY_MODEL_843bc080871c441699a96e62719d2929",
            "value": 231508
          }
        },
        "c424354416c74ae79f98896768913330": {
          "model_module": "@jupyter-widgets/controls",
          "model_name": "HTMLModel",
          "model_module_version": "1.5.0",
          "state": {
            "_dom_classes": [],
            "_model_module": "@jupyter-widgets/controls",
            "_model_module_version": "1.5.0",
            "_model_name": "HTMLModel",
            "_view_count": null,
            "_view_module": "@jupyter-widgets/controls",
            "_view_module_version": "1.5.0",
            "_view_name": "HTMLView",
            "description": "",
            "description_tooltip": null,
            "layout": "IPY_MODEL_e5b806b9ae3e45c7acdc94a3d0a2f9b8",
            "placeholder": "​",
            "style": "IPY_MODEL_fd159a098ad544359ec0821dccf29b64",
            "value": " 232k/232k [00:00&lt;00:00, 5.29MB/s]"
          }
        },
        "04826ebb34d347d5841e094e10507c23": {
          "model_module": "@jupyter-widgets/base",
          "model_name": "LayoutModel",
          "model_module_version": "1.2.0",
          "state": {
            "_model_module": "@jupyter-widgets/base",
            "_model_module_version": "1.2.0",
            "_model_name": "LayoutModel",
            "_view_count": null,
            "_view_module": "@jupyter-widgets/base",
            "_view_module_version": "1.2.0",
            "_view_name": "LayoutView",
            "align_content": null,
            "align_items": null,
            "align_self": null,
            "border": null,
            "bottom": null,
            "display": null,
            "flex": null,
            "flex_flow": null,
            "grid_area": null,
            "grid_auto_columns": null,
            "grid_auto_flow": null,
            "grid_auto_rows": null,
            "grid_column": null,
            "grid_gap": null,
            "grid_row": null,
            "grid_template_areas": null,
            "grid_template_columns": null,
            "grid_template_rows": null,
            "height": null,
            "justify_content": null,
            "justify_items": null,
            "left": null,
            "margin": null,
            "max_height": null,
            "max_width": null,
            "min_height": null,
            "min_width": null,
            "object_fit": null,
            "object_position": null,
            "order": null,
            "overflow": null,
            "overflow_x": null,
            "overflow_y": null,
            "padding": null,
            "right": null,
            "top": null,
            "visibility": null,
            "width": null
          }
        },
        "006a2ac7a67a4e7d8332bc993f3091f1": {
          "model_module": "@jupyter-widgets/base",
          "model_name": "LayoutModel",
          "model_module_version": "1.2.0",
          "state": {
            "_model_module": "@jupyter-widgets/base",
            "_model_module_version": "1.2.0",
            "_model_name": "LayoutModel",
            "_view_count": null,
            "_view_module": "@jupyter-widgets/base",
            "_view_module_version": "1.2.0",
            "_view_name": "LayoutView",
            "align_content": null,
            "align_items": null,
            "align_self": null,
            "border": null,
            "bottom": null,
            "display": null,
            "flex": null,
            "flex_flow": null,
            "grid_area": null,
            "grid_auto_columns": null,
            "grid_auto_flow": null,
            "grid_auto_rows": null,
            "grid_column": null,
            "grid_gap": null,
            "grid_row": null,
            "grid_template_areas": null,
            "grid_template_columns": null,
            "grid_template_rows": null,
            "height": null,
            "justify_content": null,
            "justify_items": null,
            "left": null,
            "margin": null,
            "max_height": null,
            "max_width": null,
            "min_height": null,
            "min_width": null,
            "object_fit": null,
            "object_position": null,
            "order": null,
            "overflow": null,
            "overflow_x": null,
            "overflow_y": null,
            "padding": null,
            "right": null,
            "top": null,
            "visibility": null,
            "width": null
          }
        },
        "c90b164b4381424b8407e1b7e4742a23": {
          "model_module": "@jupyter-widgets/controls",
          "model_name": "DescriptionStyleModel",
          "model_module_version": "1.5.0",
          "state": {
            "_model_module": "@jupyter-widgets/controls",
            "_model_module_version": "1.5.0",
            "_model_name": "DescriptionStyleModel",
            "_view_count": null,
            "_view_module": "@jupyter-widgets/base",
            "_view_module_version": "1.2.0",
            "_view_name": "StyleView",
            "description_width": ""
          }
        },
        "ccd0f05a8a2446d9bd08e9003c82070d": {
          "model_module": "@jupyter-widgets/base",
          "model_name": "LayoutModel",
          "model_module_version": "1.2.0",
          "state": {
            "_model_module": "@jupyter-widgets/base",
            "_model_module_version": "1.2.0",
            "_model_name": "LayoutModel",
            "_view_count": null,
            "_view_module": "@jupyter-widgets/base",
            "_view_module_version": "1.2.0",
            "_view_name": "LayoutView",
            "align_content": null,
            "align_items": null,
            "align_self": null,
            "border": null,
            "bottom": null,
            "display": null,
            "flex": null,
            "flex_flow": null,
            "grid_area": null,
            "grid_auto_columns": null,
            "grid_auto_flow": null,
            "grid_auto_rows": null,
            "grid_column": null,
            "grid_gap": null,
            "grid_row": null,
            "grid_template_areas": null,
            "grid_template_columns": null,
            "grid_template_rows": null,
            "height": null,
            "justify_content": null,
            "justify_items": null,
            "left": null,
            "margin": null,
            "max_height": null,
            "max_width": null,
            "min_height": null,
            "min_width": null,
            "object_fit": null,
            "object_position": null,
            "order": null,
            "overflow": null,
            "overflow_x": null,
            "overflow_y": null,
            "padding": null,
            "right": null,
            "top": null,
            "visibility": null,
            "width": null
          }
        },
        "843bc080871c441699a96e62719d2929": {
          "model_module": "@jupyter-widgets/controls",
          "model_name": "ProgressStyleModel",
          "model_module_version": "1.5.0",
          "state": {
            "_model_module": "@jupyter-widgets/controls",
            "_model_module_version": "1.5.0",
            "_model_name": "ProgressStyleModel",
            "_view_count": null,
            "_view_module": "@jupyter-widgets/base",
            "_view_module_version": "1.2.0",
            "_view_name": "StyleView",
            "bar_color": null,
            "description_width": ""
          }
        },
        "e5b806b9ae3e45c7acdc94a3d0a2f9b8": {
          "model_module": "@jupyter-widgets/base",
          "model_name": "LayoutModel",
          "model_module_version": "1.2.0",
          "state": {
            "_model_module": "@jupyter-widgets/base",
            "_model_module_version": "1.2.0",
            "_model_name": "LayoutModel",
            "_view_count": null,
            "_view_module": "@jupyter-widgets/base",
            "_view_module_version": "1.2.0",
            "_view_name": "LayoutView",
            "align_content": null,
            "align_items": null,
            "align_self": null,
            "border": null,
            "bottom": null,
            "display": null,
            "flex": null,
            "flex_flow": null,
            "grid_area": null,
            "grid_auto_columns": null,
            "grid_auto_flow": null,
            "grid_auto_rows": null,
            "grid_column": null,
            "grid_gap": null,
            "grid_row": null,
            "grid_template_areas": null,
            "grid_template_columns": null,
            "grid_template_rows": null,
            "height": null,
            "justify_content": null,
            "justify_items": null,
            "left": null,
            "margin": null,
            "max_height": null,
            "max_width": null,
            "min_height": null,
            "min_width": null,
            "object_fit": null,
            "object_position": null,
            "order": null,
            "overflow": null,
            "overflow_x": null,
            "overflow_y": null,
            "padding": null,
            "right": null,
            "top": null,
            "visibility": null,
            "width": null
          }
        },
        "fd159a098ad544359ec0821dccf29b64": {
          "model_module": "@jupyter-widgets/controls",
          "model_name": "DescriptionStyleModel",
          "model_module_version": "1.5.0",
          "state": {
            "_model_module": "@jupyter-widgets/controls",
            "_model_module_version": "1.5.0",
            "_model_name": "DescriptionStyleModel",
            "_view_count": null,
            "_view_module": "@jupyter-widgets/base",
            "_view_module_version": "1.2.0",
            "_view_name": "StyleView",
            "description_width": ""
          }
        },
        "e66475cced0e4b869d1f4f63d6bcb4b0": {
          "model_module": "@jupyter-widgets/controls",
          "model_name": "HBoxModel",
          "model_module_version": "1.5.0",
          "state": {
            "_dom_classes": [],
            "_model_module": "@jupyter-widgets/controls",
            "_model_module_version": "1.5.0",
            "_model_name": "HBoxModel",
            "_view_count": null,
            "_view_module": "@jupyter-widgets/controls",
            "_view_module_version": "1.5.0",
            "_view_name": "HBoxView",
            "box_style": "",
            "children": [
              "IPY_MODEL_ba9e47b6e3b64a11b1e835b2b9cea942",
              "IPY_MODEL_fae2a5831b154a5988f5fe29ec9e8c09",
              "IPY_MODEL_c3524f2b66f9418d92cbe95a1bb979c8"
            ],
            "layout": "IPY_MODEL_67b87ca708f443d18a6a2d0fd91bfc09"
          }
        },
        "ba9e47b6e3b64a11b1e835b2b9cea942": {
          "model_module": "@jupyter-widgets/controls",
          "model_name": "HTMLModel",
          "model_module_version": "1.5.0",
          "state": {
            "_dom_classes": [],
            "_model_module": "@jupyter-widgets/controls",
            "_model_module_version": "1.5.0",
            "_model_name": "HTMLModel",
            "_view_count": null,
            "_view_module": "@jupyter-widgets/controls",
            "_view_module_version": "1.5.0",
            "_view_name": "HTMLView",
            "description": "",
            "description_tooltip": null,
            "layout": "IPY_MODEL_fc4d7f5219a34368a4d7208566add7c2",
            "placeholder": "​",
            "style": "IPY_MODEL_179ccf48890c4333bd98b65b02a928f7",
            "value": "tokenizer.json: 100%"
          }
        },
        "fae2a5831b154a5988f5fe29ec9e8c09": {
          "model_module": "@jupyter-widgets/controls",
          "model_name": "FloatProgressModel",
          "model_module_version": "1.5.0",
          "state": {
            "_dom_classes": [],
            "_model_module": "@jupyter-widgets/controls",
            "_model_module_version": "1.5.0",
            "_model_name": "FloatProgressModel",
            "_view_count": null,
            "_view_module": "@jupyter-widgets/controls",
            "_view_module_version": "1.5.0",
            "_view_name": "ProgressView",
            "bar_style": "success",
            "description": "",
            "description_tooltip": null,
            "layout": "IPY_MODEL_5f2308f5bd194e68a34f2feae644bc08",
            "max": 466062,
            "min": 0,
            "orientation": "horizontal",
            "style": "IPY_MODEL_4fbb30246bba4f7887b5e83cf906d082",
            "value": 466062
          }
        },
        "c3524f2b66f9418d92cbe95a1bb979c8": {
          "model_module": "@jupyter-widgets/controls",
          "model_name": "HTMLModel",
          "model_module_version": "1.5.0",
          "state": {
            "_dom_classes": [],
            "_model_module": "@jupyter-widgets/controls",
            "_model_module_version": "1.5.0",
            "_model_name": "HTMLModel",
            "_view_count": null,
            "_view_module": "@jupyter-widgets/controls",
            "_view_module_version": "1.5.0",
            "_view_name": "HTMLView",
            "description": "",
            "description_tooltip": null,
            "layout": "IPY_MODEL_96df23b6fa9042768354e9f5be59f00f",
            "placeholder": "​",
            "style": "IPY_MODEL_d7f6126fd56d4a39b770438a3a76bb95",
            "value": " 466k/466k [00:00&lt;00:00, 28.8MB/s]"
          }
        },
        "67b87ca708f443d18a6a2d0fd91bfc09": {
          "model_module": "@jupyter-widgets/base",
          "model_name": "LayoutModel",
          "model_module_version": "1.2.0",
          "state": {
            "_model_module": "@jupyter-widgets/base",
            "_model_module_version": "1.2.0",
            "_model_name": "LayoutModel",
            "_view_count": null,
            "_view_module": "@jupyter-widgets/base",
            "_view_module_version": "1.2.0",
            "_view_name": "LayoutView",
            "align_content": null,
            "align_items": null,
            "align_self": null,
            "border": null,
            "bottom": null,
            "display": null,
            "flex": null,
            "flex_flow": null,
            "grid_area": null,
            "grid_auto_columns": null,
            "grid_auto_flow": null,
            "grid_auto_rows": null,
            "grid_column": null,
            "grid_gap": null,
            "grid_row": null,
            "grid_template_areas": null,
            "grid_template_columns": null,
            "grid_template_rows": null,
            "height": null,
            "justify_content": null,
            "justify_items": null,
            "left": null,
            "margin": null,
            "max_height": null,
            "max_width": null,
            "min_height": null,
            "min_width": null,
            "object_fit": null,
            "object_position": null,
            "order": null,
            "overflow": null,
            "overflow_x": null,
            "overflow_y": null,
            "padding": null,
            "right": null,
            "top": null,
            "visibility": null,
            "width": null
          }
        },
        "fc4d7f5219a34368a4d7208566add7c2": {
          "model_module": "@jupyter-widgets/base",
          "model_name": "LayoutModel",
          "model_module_version": "1.2.0",
          "state": {
            "_model_module": "@jupyter-widgets/base",
            "_model_module_version": "1.2.0",
            "_model_name": "LayoutModel",
            "_view_count": null,
            "_view_module": "@jupyter-widgets/base",
            "_view_module_version": "1.2.0",
            "_view_name": "LayoutView",
            "align_content": null,
            "align_items": null,
            "align_self": null,
            "border": null,
            "bottom": null,
            "display": null,
            "flex": null,
            "flex_flow": null,
            "grid_area": null,
            "grid_auto_columns": null,
            "grid_auto_flow": null,
            "grid_auto_rows": null,
            "grid_column": null,
            "grid_gap": null,
            "grid_row": null,
            "grid_template_areas": null,
            "grid_template_columns": null,
            "grid_template_rows": null,
            "height": null,
            "justify_content": null,
            "justify_items": null,
            "left": null,
            "margin": null,
            "max_height": null,
            "max_width": null,
            "min_height": null,
            "min_width": null,
            "object_fit": null,
            "object_position": null,
            "order": null,
            "overflow": null,
            "overflow_x": null,
            "overflow_y": null,
            "padding": null,
            "right": null,
            "top": null,
            "visibility": null,
            "width": null
          }
        },
        "179ccf48890c4333bd98b65b02a928f7": {
          "model_module": "@jupyter-widgets/controls",
          "model_name": "DescriptionStyleModel",
          "model_module_version": "1.5.0",
          "state": {
            "_model_module": "@jupyter-widgets/controls",
            "_model_module_version": "1.5.0",
            "_model_name": "DescriptionStyleModel",
            "_view_count": null,
            "_view_module": "@jupyter-widgets/base",
            "_view_module_version": "1.2.0",
            "_view_name": "StyleView",
            "description_width": ""
          }
        },
        "5f2308f5bd194e68a34f2feae644bc08": {
          "model_module": "@jupyter-widgets/base",
          "model_name": "LayoutModel",
          "model_module_version": "1.2.0",
          "state": {
            "_model_module": "@jupyter-widgets/base",
            "_model_module_version": "1.2.0",
            "_model_name": "LayoutModel",
            "_view_count": null,
            "_view_module": "@jupyter-widgets/base",
            "_view_module_version": "1.2.0",
            "_view_name": "LayoutView",
            "align_content": null,
            "align_items": null,
            "align_self": null,
            "border": null,
            "bottom": null,
            "display": null,
            "flex": null,
            "flex_flow": null,
            "grid_area": null,
            "grid_auto_columns": null,
            "grid_auto_flow": null,
            "grid_auto_rows": null,
            "grid_column": null,
            "grid_gap": null,
            "grid_row": null,
            "grid_template_areas": null,
            "grid_template_columns": null,
            "grid_template_rows": null,
            "height": null,
            "justify_content": null,
            "justify_items": null,
            "left": null,
            "margin": null,
            "max_height": null,
            "max_width": null,
            "min_height": null,
            "min_width": null,
            "object_fit": null,
            "object_position": null,
            "order": null,
            "overflow": null,
            "overflow_x": null,
            "overflow_y": null,
            "padding": null,
            "right": null,
            "top": null,
            "visibility": null,
            "width": null
          }
        },
        "4fbb30246bba4f7887b5e83cf906d082": {
          "model_module": "@jupyter-widgets/controls",
          "model_name": "ProgressStyleModel",
          "model_module_version": "1.5.0",
          "state": {
            "_model_module": "@jupyter-widgets/controls",
            "_model_module_version": "1.5.0",
            "_model_name": "ProgressStyleModel",
            "_view_count": null,
            "_view_module": "@jupyter-widgets/base",
            "_view_module_version": "1.2.0",
            "_view_name": "StyleView",
            "bar_color": null,
            "description_width": ""
          }
        },
        "96df23b6fa9042768354e9f5be59f00f": {
          "model_module": "@jupyter-widgets/base",
          "model_name": "LayoutModel",
          "model_module_version": "1.2.0",
          "state": {
            "_model_module": "@jupyter-widgets/base",
            "_model_module_version": "1.2.0",
            "_model_name": "LayoutModel",
            "_view_count": null,
            "_view_module": "@jupyter-widgets/base",
            "_view_module_version": "1.2.0",
            "_view_name": "LayoutView",
            "align_content": null,
            "align_items": null,
            "align_self": null,
            "border": null,
            "bottom": null,
            "display": null,
            "flex": null,
            "flex_flow": null,
            "grid_area": null,
            "grid_auto_columns": null,
            "grid_auto_flow": null,
            "grid_auto_rows": null,
            "grid_column": null,
            "grid_gap": null,
            "grid_row": null,
            "grid_template_areas": null,
            "grid_template_columns": null,
            "grid_template_rows": null,
            "height": null,
            "justify_content": null,
            "justify_items": null,
            "left": null,
            "margin": null,
            "max_height": null,
            "max_width": null,
            "min_height": null,
            "min_width": null,
            "object_fit": null,
            "object_position": null,
            "order": null,
            "overflow": null,
            "overflow_x": null,
            "overflow_y": null,
            "padding": null,
            "right": null,
            "top": null,
            "visibility": null,
            "width": null
          }
        },
        "d7f6126fd56d4a39b770438a3a76bb95": {
          "model_module": "@jupyter-widgets/controls",
          "model_name": "DescriptionStyleModel",
          "model_module_version": "1.5.0",
          "state": {
            "_model_module": "@jupyter-widgets/controls",
            "_model_module_version": "1.5.0",
            "_model_name": "DescriptionStyleModel",
            "_view_count": null,
            "_view_module": "@jupyter-widgets/base",
            "_view_module_version": "1.2.0",
            "_view_name": "StyleView",
            "description_width": ""
          }
        },
        "9a5381947af845e4934d3e281bcdc0e9": {
          "model_module": "@jupyter-widgets/controls",
          "model_name": "HBoxModel",
          "model_module_version": "1.5.0",
          "state": {
            "_dom_classes": [],
            "_model_module": "@jupyter-widgets/controls",
            "_model_module_version": "1.5.0",
            "_model_name": "HBoxModel",
            "_view_count": null,
            "_view_module": "@jupyter-widgets/controls",
            "_view_module_version": "1.5.0",
            "_view_name": "HBoxView",
            "box_style": "",
            "children": [
              "IPY_MODEL_48f49fe1790a4a47b22262bd98d65f28",
              "IPY_MODEL_508c86cb1601464c8250614995d72bbb",
              "IPY_MODEL_b3c4dd7551d744b5b2cfd8a857300d5a"
            ],
            "layout": "IPY_MODEL_0ed3fbd7c35e40a9bbb65b2580b06afe"
          }
        },
        "48f49fe1790a4a47b22262bd98d65f28": {
          "model_module": "@jupyter-widgets/controls",
          "model_name": "HTMLModel",
          "model_module_version": "1.5.0",
          "state": {
            "_dom_classes": [],
            "_model_module": "@jupyter-widgets/controls",
            "_model_module_version": "1.5.0",
            "_model_name": "HTMLModel",
            "_view_count": null,
            "_view_module": "@jupyter-widgets/controls",
            "_view_module_version": "1.5.0",
            "_view_name": "HTMLView",
            "description": "",
            "description_tooltip": null,
            "layout": "IPY_MODEL_44db70de24754b28bd89b96994d20ebc",
            "placeholder": "​",
            "style": "IPY_MODEL_11bc9e3861774585aea5f5fb073b09be",
            "value": "config.json: 100%"
          }
        },
        "508c86cb1601464c8250614995d72bbb": {
          "model_module": "@jupyter-widgets/controls",
          "model_name": "FloatProgressModel",
          "model_module_version": "1.5.0",
          "state": {
            "_dom_classes": [],
            "_model_module": "@jupyter-widgets/controls",
            "_model_module_version": "1.5.0",
            "_model_name": "FloatProgressModel",
            "_view_count": null,
            "_view_module": "@jupyter-widgets/controls",
            "_view_module_version": "1.5.0",
            "_view_name": "ProgressView",
            "bar_style": "success",
            "description": "",
            "description_tooltip": null,
            "layout": "IPY_MODEL_5480ff8b83884b7d98852e7dbee87db3",
            "max": 570,
            "min": 0,
            "orientation": "horizontal",
            "style": "IPY_MODEL_20ce7264f3614af09e56d7c929e2c597",
            "value": 570
          }
        },
        "b3c4dd7551d744b5b2cfd8a857300d5a": {
          "model_module": "@jupyter-widgets/controls",
          "model_name": "HTMLModel",
          "model_module_version": "1.5.0",
          "state": {
            "_dom_classes": [],
            "_model_module": "@jupyter-widgets/controls",
            "_model_module_version": "1.5.0",
            "_model_name": "HTMLModel",
            "_view_count": null,
            "_view_module": "@jupyter-widgets/controls",
            "_view_module_version": "1.5.0",
            "_view_name": "HTMLView",
            "description": "",
            "description_tooltip": null,
            "layout": "IPY_MODEL_baf45f25d8244e40894b5b8e1d05cf70",
            "placeholder": "​",
            "style": "IPY_MODEL_40c139b9aa82444f9c6580ad7a248b9d",
            "value": " 570/570 [00:00&lt;00:00, 34.7kB/s]"
          }
        },
        "0ed3fbd7c35e40a9bbb65b2580b06afe": {
          "model_module": "@jupyter-widgets/base",
          "model_name": "LayoutModel",
          "model_module_version": "1.2.0",
          "state": {
            "_model_module": "@jupyter-widgets/base",
            "_model_module_version": "1.2.0",
            "_model_name": "LayoutModel",
            "_view_count": null,
            "_view_module": "@jupyter-widgets/base",
            "_view_module_version": "1.2.0",
            "_view_name": "LayoutView",
            "align_content": null,
            "align_items": null,
            "align_self": null,
            "border": null,
            "bottom": null,
            "display": null,
            "flex": null,
            "flex_flow": null,
            "grid_area": null,
            "grid_auto_columns": null,
            "grid_auto_flow": null,
            "grid_auto_rows": null,
            "grid_column": null,
            "grid_gap": null,
            "grid_row": null,
            "grid_template_areas": null,
            "grid_template_columns": null,
            "grid_template_rows": null,
            "height": null,
            "justify_content": null,
            "justify_items": null,
            "left": null,
            "margin": null,
            "max_height": null,
            "max_width": null,
            "min_height": null,
            "min_width": null,
            "object_fit": null,
            "object_position": null,
            "order": null,
            "overflow": null,
            "overflow_x": null,
            "overflow_y": null,
            "padding": null,
            "right": null,
            "top": null,
            "visibility": null,
            "width": null
          }
        },
        "44db70de24754b28bd89b96994d20ebc": {
          "model_module": "@jupyter-widgets/base",
          "model_name": "LayoutModel",
          "model_module_version": "1.2.0",
          "state": {
            "_model_module": "@jupyter-widgets/base",
            "_model_module_version": "1.2.0",
            "_model_name": "LayoutModel",
            "_view_count": null,
            "_view_module": "@jupyter-widgets/base",
            "_view_module_version": "1.2.0",
            "_view_name": "LayoutView",
            "align_content": null,
            "align_items": null,
            "align_self": null,
            "border": null,
            "bottom": null,
            "display": null,
            "flex": null,
            "flex_flow": null,
            "grid_area": null,
            "grid_auto_columns": null,
            "grid_auto_flow": null,
            "grid_auto_rows": null,
            "grid_column": null,
            "grid_gap": null,
            "grid_row": null,
            "grid_template_areas": null,
            "grid_template_columns": null,
            "grid_template_rows": null,
            "height": null,
            "justify_content": null,
            "justify_items": null,
            "left": null,
            "margin": null,
            "max_height": null,
            "max_width": null,
            "min_height": null,
            "min_width": null,
            "object_fit": null,
            "object_position": null,
            "order": null,
            "overflow": null,
            "overflow_x": null,
            "overflow_y": null,
            "padding": null,
            "right": null,
            "top": null,
            "visibility": null,
            "width": null
          }
        },
        "11bc9e3861774585aea5f5fb073b09be": {
          "model_module": "@jupyter-widgets/controls",
          "model_name": "DescriptionStyleModel",
          "model_module_version": "1.5.0",
          "state": {
            "_model_module": "@jupyter-widgets/controls",
            "_model_module_version": "1.5.0",
            "_model_name": "DescriptionStyleModel",
            "_view_count": null,
            "_view_module": "@jupyter-widgets/base",
            "_view_module_version": "1.2.0",
            "_view_name": "StyleView",
            "description_width": ""
          }
        },
        "5480ff8b83884b7d98852e7dbee87db3": {
          "model_module": "@jupyter-widgets/base",
          "model_name": "LayoutModel",
          "model_module_version": "1.2.0",
          "state": {
            "_model_module": "@jupyter-widgets/base",
            "_model_module_version": "1.2.0",
            "_model_name": "LayoutModel",
            "_view_count": null,
            "_view_module": "@jupyter-widgets/base",
            "_view_module_version": "1.2.0",
            "_view_name": "LayoutView",
            "align_content": null,
            "align_items": null,
            "align_self": null,
            "border": null,
            "bottom": null,
            "display": null,
            "flex": null,
            "flex_flow": null,
            "grid_area": null,
            "grid_auto_columns": null,
            "grid_auto_flow": null,
            "grid_auto_rows": null,
            "grid_column": null,
            "grid_gap": null,
            "grid_row": null,
            "grid_template_areas": null,
            "grid_template_columns": null,
            "grid_template_rows": null,
            "height": null,
            "justify_content": null,
            "justify_items": null,
            "left": null,
            "margin": null,
            "max_height": null,
            "max_width": null,
            "min_height": null,
            "min_width": null,
            "object_fit": null,
            "object_position": null,
            "order": null,
            "overflow": null,
            "overflow_x": null,
            "overflow_y": null,
            "padding": null,
            "right": null,
            "top": null,
            "visibility": null,
            "width": null
          }
        },
        "20ce7264f3614af09e56d7c929e2c597": {
          "model_module": "@jupyter-widgets/controls",
          "model_name": "ProgressStyleModel",
          "model_module_version": "1.5.0",
          "state": {
            "_model_module": "@jupyter-widgets/controls",
            "_model_module_version": "1.5.0",
            "_model_name": "ProgressStyleModel",
            "_view_count": null,
            "_view_module": "@jupyter-widgets/base",
            "_view_module_version": "1.2.0",
            "_view_name": "StyleView",
            "bar_color": null,
            "description_width": ""
          }
        },
        "baf45f25d8244e40894b5b8e1d05cf70": {
          "model_module": "@jupyter-widgets/base",
          "model_name": "LayoutModel",
          "model_module_version": "1.2.0",
          "state": {
            "_model_module": "@jupyter-widgets/base",
            "_model_module_version": "1.2.0",
            "_model_name": "LayoutModel",
            "_view_count": null,
            "_view_module": "@jupyter-widgets/base",
            "_view_module_version": "1.2.0",
            "_view_name": "LayoutView",
            "align_content": null,
            "align_items": null,
            "align_self": null,
            "border": null,
            "bottom": null,
            "display": null,
            "flex": null,
            "flex_flow": null,
            "grid_area": null,
            "grid_auto_columns": null,
            "grid_auto_flow": null,
            "grid_auto_rows": null,
            "grid_column": null,
            "grid_gap": null,
            "grid_row": null,
            "grid_template_areas": null,
            "grid_template_columns": null,
            "grid_template_rows": null,
            "height": null,
            "justify_content": null,
            "justify_items": null,
            "left": null,
            "margin": null,
            "max_height": null,
            "max_width": null,
            "min_height": null,
            "min_width": null,
            "object_fit": null,
            "object_position": null,
            "order": null,
            "overflow": null,
            "overflow_x": null,
            "overflow_y": null,
            "padding": null,
            "right": null,
            "top": null,
            "visibility": null,
            "width": null
          }
        },
        "40c139b9aa82444f9c6580ad7a248b9d": {
          "model_module": "@jupyter-widgets/controls",
          "model_name": "DescriptionStyleModel",
          "model_module_version": "1.5.0",
          "state": {
            "_model_module": "@jupyter-widgets/controls",
            "_model_module_version": "1.5.0",
            "_model_name": "DescriptionStyleModel",
            "_view_count": null,
            "_view_module": "@jupyter-widgets/base",
            "_view_module_version": "1.2.0",
            "_view_name": "StyleView",
            "description_width": ""
          }
        },
        "1e3185ecea9b4221855d5e1413bdd3ad": {
          "model_module": "@jupyter-widgets/controls",
          "model_name": "HBoxModel",
          "model_module_version": "1.5.0",
          "state": {
            "_dom_classes": [],
            "_model_module": "@jupyter-widgets/controls",
            "_model_module_version": "1.5.0",
            "_model_name": "HBoxModel",
            "_view_count": null,
            "_view_module": "@jupyter-widgets/controls",
            "_view_module_version": "1.5.0",
            "_view_name": "HBoxView",
            "box_style": "",
            "children": [
              "IPY_MODEL_4087874c09b44a7eaf889dc6db52e692",
              "IPY_MODEL_f79b47716cea427597b068465a5ad459",
              "IPY_MODEL_f97e554dc4aa49cfb1a5cf0cb18a15f9"
            ],
            "layout": "IPY_MODEL_8a94202283a84662967225509f44ca3e"
          }
        },
        "4087874c09b44a7eaf889dc6db52e692": {
          "model_module": "@jupyter-widgets/controls",
          "model_name": "HTMLModel",
          "model_module_version": "1.5.0",
          "state": {
            "_dom_classes": [],
            "_model_module": "@jupyter-widgets/controls",
            "_model_module_version": "1.5.0",
            "_model_name": "HTMLModel",
            "_view_count": null,
            "_view_module": "@jupyter-widgets/controls",
            "_view_module_version": "1.5.0",
            "_view_name": "HTMLView",
            "description": "",
            "description_tooltip": null,
            "layout": "IPY_MODEL_52f4e9bfdf8f49f2b263e4bd1eb6d4d2",
            "placeholder": "​",
            "style": "IPY_MODEL_50879c8e4ee7423389f9a519bea48116",
            "value": "model.safetensors: 100%"
          }
        },
        "f79b47716cea427597b068465a5ad459": {
          "model_module": "@jupyter-widgets/controls",
          "model_name": "FloatProgressModel",
          "model_module_version": "1.5.0",
          "state": {
            "_dom_classes": [],
            "_model_module": "@jupyter-widgets/controls",
            "_model_module_version": "1.5.0",
            "_model_name": "FloatProgressModel",
            "_view_count": null,
            "_view_module": "@jupyter-widgets/controls",
            "_view_module_version": "1.5.0",
            "_view_name": "ProgressView",
            "bar_style": "success",
            "description": "",
            "description_tooltip": null,
            "layout": "IPY_MODEL_27a042a762a24d2b8d06a6a50bdbcf88",
            "max": 440449768,
            "min": 0,
            "orientation": "horizontal",
            "style": "IPY_MODEL_98e0a040d7c0483caa42f1d385d11040",
            "value": 440449768
          }
        },
        "f97e554dc4aa49cfb1a5cf0cb18a15f9": {
          "model_module": "@jupyter-widgets/controls",
          "model_name": "HTMLModel",
          "model_module_version": "1.5.0",
          "state": {
            "_dom_classes": [],
            "_model_module": "@jupyter-widgets/controls",
            "_model_module_version": "1.5.0",
            "_model_name": "HTMLModel",
            "_view_count": null,
            "_view_module": "@jupyter-widgets/controls",
            "_view_module_version": "1.5.0",
            "_view_name": "HTMLView",
            "description": "",
            "description_tooltip": null,
            "layout": "IPY_MODEL_1c3b9659c1cc4066b08363a8bb48bb7c",
            "placeholder": "​",
            "style": "IPY_MODEL_6eca6b96b3cb4390a71fe1be3158769c",
            "value": " 440M/440M [00:02&lt;00:00, 153MB/s]"
          }
        },
        "8a94202283a84662967225509f44ca3e": {
          "model_module": "@jupyter-widgets/base",
          "model_name": "LayoutModel",
          "model_module_version": "1.2.0",
          "state": {
            "_model_module": "@jupyter-widgets/base",
            "_model_module_version": "1.2.0",
            "_model_name": "LayoutModel",
            "_view_count": null,
            "_view_module": "@jupyter-widgets/base",
            "_view_module_version": "1.2.0",
            "_view_name": "LayoutView",
            "align_content": null,
            "align_items": null,
            "align_self": null,
            "border": null,
            "bottom": null,
            "display": null,
            "flex": null,
            "flex_flow": null,
            "grid_area": null,
            "grid_auto_columns": null,
            "grid_auto_flow": null,
            "grid_auto_rows": null,
            "grid_column": null,
            "grid_gap": null,
            "grid_row": null,
            "grid_template_areas": null,
            "grid_template_columns": null,
            "grid_template_rows": null,
            "height": null,
            "justify_content": null,
            "justify_items": null,
            "left": null,
            "margin": null,
            "max_height": null,
            "max_width": null,
            "min_height": null,
            "min_width": null,
            "object_fit": null,
            "object_position": null,
            "order": null,
            "overflow": null,
            "overflow_x": null,
            "overflow_y": null,
            "padding": null,
            "right": null,
            "top": null,
            "visibility": null,
            "width": null
          }
        },
        "52f4e9bfdf8f49f2b263e4bd1eb6d4d2": {
          "model_module": "@jupyter-widgets/base",
          "model_name": "LayoutModel",
          "model_module_version": "1.2.0",
          "state": {
            "_model_module": "@jupyter-widgets/base",
            "_model_module_version": "1.2.0",
            "_model_name": "LayoutModel",
            "_view_count": null,
            "_view_module": "@jupyter-widgets/base",
            "_view_module_version": "1.2.0",
            "_view_name": "LayoutView",
            "align_content": null,
            "align_items": null,
            "align_self": null,
            "border": null,
            "bottom": null,
            "display": null,
            "flex": null,
            "flex_flow": null,
            "grid_area": null,
            "grid_auto_columns": null,
            "grid_auto_flow": null,
            "grid_auto_rows": null,
            "grid_column": null,
            "grid_gap": null,
            "grid_row": null,
            "grid_template_areas": null,
            "grid_template_columns": null,
            "grid_template_rows": null,
            "height": null,
            "justify_content": null,
            "justify_items": null,
            "left": null,
            "margin": null,
            "max_height": null,
            "max_width": null,
            "min_height": null,
            "min_width": null,
            "object_fit": null,
            "object_position": null,
            "order": null,
            "overflow": null,
            "overflow_x": null,
            "overflow_y": null,
            "padding": null,
            "right": null,
            "top": null,
            "visibility": null,
            "width": null
          }
        },
        "50879c8e4ee7423389f9a519bea48116": {
          "model_module": "@jupyter-widgets/controls",
          "model_name": "DescriptionStyleModel",
          "model_module_version": "1.5.0",
          "state": {
            "_model_module": "@jupyter-widgets/controls",
            "_model_module_version": "1.5.0",
            "_model_name": "DescriptionStyleModel",
            "_view_count": null,
            "_view_module": "@jupyter-widgets/base",
            "_view_module_version": "1.2.0",
            "_view_name": "StyleView",
            "description_width": ""
          }
        },
        "27a042a762a24d2b8d06a6a50bdbcf88": {
          "model_module": "@jupyter-widgets/base",
          "model_name": "LayoutModel",
          "model_module_version": "1.2.0",
          "state": {
            "_model_module": "@jupyter-widgets/base",
            "_model_module_version": "1.2.0",
            "_model_name": "LayoutModel",
            "_view_count": null,
            "_view_module": "@jupyter-widgets/base",
            "_view_module_version": "1.2.0",
            "_view_name": "LayoutView",
            "align_content": null,
            "align_items": null,
            "align_self": null,
            "border": null,
            "bottom": null,
            "display": null,
            "flex": null,
            "flex_flow": null,
            "grid_area": null,
            "grid_auto_columns": null,
            "grid_auto_flow": null,
            "grid_auto_rows": null,
            "grid_column": null,
            "grid_gap": null,
            "grid_row": null,
            "grid_template_areas": null,
            "grid_template_columns": null,
            "grid_template_rows": null,
            "height": null,
            "justify_content": null,
            "justify_items": null,
            "left": null,
            "margin": null,
            "max_height": null,
            "max_width": null,
            "min_height": null,
            "min_width": null,
            "object_fit": null,
            "object_position": null,
            "order": null,
            "overflow": null,
            "overflow_x": null,
            "overflow_y": null,
            "padding": null,
            "right": null,
            "top": null,
            "visibility": null,
            "width": null
          }
        },
        "98e0a040d7c0483caa42f1d385d11040": {
          "model_module": "@jupyter-widgets/controls",
          "model_name": "ProgressStyleModel",
          "model_module_version": "1.5.0",
          "state": {
            "_model_module": "@jupyter-widgets/controls",
            "_model_module_version": "1.5.0",
            "_model_name": "ProgressStyleModel",
            "_view_count": null,
            "_view_module": "@jupyter-widgets/base",
            "_view_module_version": "1.2.0",
            "_view_name": "StyleView",
            "bar_color": null,
            "description_width": ""
          }
        },
        "1c3b9659c1cc4066b08363a8bb48bb7c": {
          "model_module": "@jupyter-widgets/base",
          "model_name": "LayoutModel",
          "model_module_version": "1.2.0",
          "state": {
            "_model_module": "@jupyter-widgets/base",
            "_model_module_version": "1.2.0",
            "_model_name": "LayoutModel",
            "_view_count": null,
            "_view_module": "@jupyter-widgets/base",
            "_view_module_version": "1.2.0",
            "_view_name": "LayoutView",
            "align_content": null,
            "align_items": null,
            "align_self": null,
            "border": null,
            "bottom": null,
            "display": null,
            "flex": null,
            "flex_flow": null,
            "grid_area": null,
            "grid_auto_columns": null,
            "grid_auto_flow": null,
            "grid_auto_rows": null,
            "grid_column": null,
            "grid_gap": null,
            "grid_row": null,
            "grid_template_areas": null,
            "grid_template_columns": null,
            "grid_template_rows": null,
            "height": null,
            "justify_content": null,
            "justify_items": null,
            "left": null,
            "margin": null,
            "max_height": null,
            "max_width": null,
            "min_height": null,
            "min_width": null,
            "object_fit": null,
            "object_position": null,
            "order": null,
            "overflow": null,
            "overflow_x": null,
            "overflow_y": null,
            "padding": null,
            "right": null,
            "top": null,
            "visibility": null,
            "width": null
          }
        },
        "6eca6b96b3cb4390a71fe1be3158769c": {
          "model_module": "@jupyter-widgets/controls",
          "model_name": "DescriptionStyleModel",
          "model_module_version": "1.5.0",
          "state": {
            "_model_module": "@jupyter-widgets/controls",
            "_model_module_version": "1.5.0",
            "_model_name": "DescriptionStyleModel",
            "_view_count": null,
            "_view_module": "@jupyter-widgets/base",
            "_view_module_version": "1.2.0",
            "_view_name": "StyleView",
            "description_width": ""
          }
        }
      }
    }
  },
  "nbformat": 4,
  "nbformat_minor": 0
}